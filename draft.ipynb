{
 "cells": [
  {
   "cell_type": "markdown",
   "metadata": {
    "pycharm": {
     "name": "#%% md\n"
    }
   },
   "source": [
    "# Import Python libraries"
   ]
  },
  {
   "cell_type": "code",
   "execution_count": 17,
   "metadata": {
    "pycharm": {
     "name": "#%%\n"
    }
   },
   "outputs": [],
   "source": [
    "import xlwings as xw\n",
    "import pandas as pd\n",
    "import numpy as np\n",
    "from poes.model.utils import param_poes"
   ]
  },
  {
   "cell_type": "code",
   "execution_count": 18,
   "metadata": {
    "pycharm": {
     "name": "#%%\n"
    }
   },
   "outputs": [],
   "source": [
    "xb = xw.Book('poes/controller/control.xlsm')"
   ]
  },
  {
   "cell_type": "code",
   "execution_count": 19,
   "metadata": {
    "pycharm": {
     "name": "#%%\n"
    }
   },
   "outputs": [],
   "source": [
    "sheet = xb.sheets['Resumen']"
   ]
  },
  {
   "cell_type": "code",
   "execution_count": 20,
   "metadata": {
    "pycharm": {
     "name": "#%%\n"
    }
   },
   "outputs": [
    {
     "data": {
      "text/plain": "  Variables  Data values Dist.   Loc Scale    Sc Lim. Min.  Lim. Max.\n0     Area        340.00  None  None  None  None       None      None\n1   Espesor        40.00  None  None  None  None       None      None\n2  Porosida         0.16  None  None  None  None       None      None\n3       Swi         0.51  None  None  None  None       None      None\n4       Boi         2.60  None  None  None  None       None      None",
      "text/html": "<div>\n<style scoped>\n    .dataframe tbody tr th:only-of-type {\n        vertical-align: middle;\n    }\n\n    .dataframe tbody tr th {\n        vertical-align: top;\n    }\n\n    .dataframe thead th {\n        text-align: right;\n    }\n</style>\n<table border=\"1\" class=\"dataframe\">\n  <thead>\n    <tr style=\"text-align: right;\">\n      <th></th>\n      <th>Variables</th>\n      <th>Data values</th>\n      <th>Dist.</th>\n      <th>Loc</th>\n      <th>Scale</th>\n      <th>Sc</th>\n      <th>Lim. Min.</th>\n      <th>Lim. Max.</th>\n    </tr>\n  </thead>\n  <tbody>\n    <tr>\n      <th>0</th>\n      <td>Area</td>\n      <td>340.00</td>\n      <td>None</td>\n      <td>None</td>\n      <td>None</td>\n      <td>None</td>\n      <td>None</td>\n      <td>None</td>\n    </tr>\n    <tr>\n      <th>1</th>\n      <td>Espesor</td>\n      <td>40.00</td>\n      <td>None</td>\n      <td>None</td>\n      <td>None</td>\n      <td>None</td>\n      <td>None</td>\n      <td>None</td>\n    </tr>\n    <tr>\n      <th>2</th>\n      <td>Porosida</td>\n      <td>0.16</td>\n      <td>None</td>\n      <td>None</td>\n      <td>None</td>\n      <td>None</td>\n      <td>None</td>\n      <td>None</td>\n    </tr>\n    <tr>\n      <th>3</th>\n      <td>Swi</td>\n      <td>0.51</td>\n      <td>None</td>\n      <td>None</td>\n      <td>None</td>\n      <td>None</td>\n      <td>None</td>\n      <td>None</td>\n    </tr>\n    <tr>\n      <th>4</th>\n      <td>Boi</td>\n      <td>2.60</td>\n      <td>None</td>\n      <td>None</td>\n      <td>None</td>\n      <td>None</td>\n      <td>None</td>\n      <td>None</td>\n    </tr>\n  </tbody>\n</table>\n</div>"
     },
     "execution_count": 20,
     "metadata": {},
     "output_type": "execute_result"
    }
   ],
   "source": [
    "df_poes = sheet['A2'].options(pd.DataFrame, index=False, expand='table').value\n",
    "df_poes"
   ]
  },
  {
   "cell_type": "markdown",
   "metadata": {
    "pycharm": {
     "name": "#%% md\n"
    }
   },
   "source": [
    "# Exploratory data analysis"
   ]
  },
  {
   "cell_type": "code",
   "execution_count": 21,
   "metadata": {
    "pycharm": {
     "name": "#%%\n"
    }
   },
   "outputs": [
    {
     "data": {
      "text/plain": "Index(['Variables', 'Data values', 'Dist.', 'Loc', 'Scale', 'Sc', 'Lim. Min. ',\n       'Lim. Max.'],\n      dtype='object')"
     },
     "execution_count": 21,
     "metadata": {},
     "output_type": "execute_result"
    }
   ],
   "source": [
    "df_poes.columns"
   ]
  },
  {
   "cell_type": "code",
   "execution_count": 22,
   "metadata": {
    "pycharm": {
     "name": "#%%\n"
    }
   },
   "outputs": [],
   "source": [
    "df_poes.columns = df_poes.columns.str.strip()"
   ]
  },
  {
   "cell_type": "code",
   "execution_count": 23,
   "metadata": {
    "pycharm": {
     "name": "#%%\n"
    }
   },
   "outputs": [
    {
     "data": {
      "text/plain": "Index(['Variables', 'Data values', 'Dist.', 'Loc', 'Scale', 'Sc', 'Lim. Min.',\n       'Lim. Max.'],\n      dtype='object')"
     },
     "execution_count": 23,
     "metadata": {},
     "output_type": "execute_result"
    }
   ],
   "source": [
    "df_poes.columns"
   ]
  },
  {
   "cell_type": "code",
   "execution_count": 24,
   "metadata": {
    "pycharm": {
     "name": "#%%\n"
    }
   },
   "outputs": [
    {
     "data": {
      "text/plain": "  Variables  Data values        Dist.   Loc Scale    Sc Lim. Min. Lim. Max.\n0     Area        340.00   Triangular  None  None  None      None      None\n1   Espesor        40.00   Triangular  None  None  None      None      None\n2  Porosida         0.16   Log Normal  None  None  None      None      None\n3       Swi         0.51       Normal  None  None  None      None      None\n4       Boi         2.60  Exponencial  None  None  None      None      None",
      "text/html": "<div>\n<style scoped>\n    .dataframe tbody tr th:only-of-type {\n        vertical-align: middle;\n    }\n\n    .dataframe tbody tr th {\n        vertical-align: top;\n    }\n\n    .dataframe thead th {\n        text-align: right;\n    }\n</style>\n<table border=\"1\" class=\"dataframe\">\n  <thead>\n    <tr style=\"text-align: right;\">\n      <th></th>\n      <th>Variables</th>\n      <th>Data values</th>\n      <th>Dist.</th>\n      <th>Loc</th>\n      <th>Scale</th>\n      <th>Sc</th>\n      <th>Lim. Min.</th>\n      <th>Lim. Max.</th>\n    </tr>\n  </thead>\n  <tbody>\n    <tr>\n      <th>0</th>\n      <td>Area</td>\n      <td>340.00</td>\n      <td>Triangular</td>\n      <td>None</td>\n      <td>None</td>\n      <td>None</td>\n      <td>None</td>\n      <td>None</td>\n    </tr>\n    <tr>\n      <th>1</th>\n      <td>Espesor</td>\n      <td>40.00</td>\n      <td>Triangular</td>\n      <td>None</td>\n      <td>None</td>\n      <td>None</td>\n      <td>None</td>\n      <td>None</td>\n    </tr>\n    <tr>\n      <th>2</th>\n      <td>Porosida</td>\n      <td>0.16</td>\n      <td>Log Normal</td>\n      <td>None</td>\n      <td>None</td>\n      <td>None</td>\n      <td>None</td>\n      <td>None</td>\n    </tr>\n    <tr>\n      <th>3</th>\n      <td>Swi</td>\n      <td>0.51</td>\n      <td>Normal</td>\n      <td>None</td>\n      <td>None</td>\n      <td>None</td>\n      <td>None</td>\n      <td>None</td>\n    </tr>\n    <tr>\n      <th>4</th>\n      <td>Boi</td>\n      <td>2.60</td>\n      <td>Exponencial</td>\n      <td>None</td>\n      <td>None</td>\n      <td>None</td>\n      <td>None</td>\n      <td>None</td>\n    </tr>\n  </tbody>\n</table>\n</div>"
     },
     "execution_count": 24,
     "metadata": {},
     "output_type": "execute_result"
    }
   ],
   "source": [
    "df_poes['Dist.'] = ['Triangular', 'Triangular', 'Log Normal', 'Normal', 'Exponencial']\n",
    "df_poes"
   ]
  },
  {
   "cell_type": "code",
   "execution_count": 25,
   "metadata": {
    "pycharm": {
     "name": "#%%\n"
    }
   },
   "outputs": [
    {
     "data": {
      "text/plain": "(5, 8)"
     },
     "execution_count": 25,
     "metadata": {},
     "output_type": "execute_result"
    }
   ],
   "source": [
    "df_poes.shape"
   ]
  },
  {
   "cell_type": "code",
   "execution_count": 26,
   "metadata": {
    "pycharm": {
     "name": "#%%\n"
    }
   },
   "outputs": [
    {
     "data": {
      "text/plain": "  Variables  Data values        Dist.    Loc  Scale   Sc  Lim. Min.  Lim. Max.\n0     Area        340.00   Triangular  400.0  600.0  0.3         50        0.0\n1   Espesor        40.00   Triangular    0.0   90.0  0.3          0      180.0\n2  Porosida         0.16   Log Normal    0.0    0.2  0.8          0        0.4\n3       Swi         0.51       Normal    0.4    0.2  0.0          0        1.0\n4       Boi         2.60  Exponencial    1.0    0.2  0.7          1        2.0",
      "text/html": "<div>\n<style scoped>\n    .dataframe tbody tr th:only-of-type {\n        vertical-align: middle;\n    }\n\n    .dataframe tbody tr th {\n        vertical-align: top;\n    }\n\n    .dataframe thead th {\n        text-align: right;\n    }\n</style>\n<table border=\"1\" class=\"dataframe\">\n  <thead>\n    <tr style=\"text-align: right;\">\n      <th></th>\n      <th>Variables</th>\n      <th>Data values</th>\n      <th>Dist.</th>\n      <th>Loc</th>\n      <th>Scale</th>\n      <th>Sc</th>\n      <th>Lim. Min.</th>\n      <th>Lim. Max.</th>\n    </tr>\n  </thead>\n  <tbody>\n    <tr>\n      <th>0</th>\n      <td>Area</td>\n      <td>340.00</td>\n      <td>Triangular</td>\n      <td>400.0</td>\n      <td>600.0</td>\n      <td>0.3</td>\n      <td>50</td>\n      <td>0.0</td>\n    </tr>\n    <tr>\n      <th>1</th>\n      <td>Espesor</td>\n      <td>40.00</td>\n      <td>Triangular</td>\n      <td>0.0</td>\n      <td>90.0</td>\n      <td>0.3</td>\n      <td>0</td>\n      <td>180.0</td>\n    </tr>\n    <tr>\n      <th>2</th>\n      <td>Porosida</td>\n      <td>0.16</td>\n      <td>Log Normal</td>\n      <td>0.0</td>\n      <td>0.2</td>\n      <td>0.8</td>\n      <td>0</td>\n      <td>0.4</td>\n    </tr>\n    <tr>\n      <th>3</th>\n      <td>Swi</td>\n      <td>0.51</td>\n      <td>Normal</td>\n      <td>0.4</td>\n      <td>0.2</td>\n      <td>0.0</td>\n      <td>0</td>\n      <td>1.0</td>\n    </tr>\n    <tr>\n      <th>4</th>\n      <td>Boi</td>\n      <td>2.60</td>\n      <td>Exponencial</td>\n      <td>1.0</td>\n      <td>0.2</td>\n      <td>0.7</td>\n      <td>1</td>\n      <td>2.0</td>\n    </tr>\n  </tbody>\n</table>\n</div>"
     },
     "execution_count": 26,
     "metadata": {},
     "output_type": "execute_result"
    }
   ],
   "source": [
    "df_poes['Loc'] = np.array([400, 0, 0, 0.4, 1])\n",
    "df_poes['Scale'] = np.array([600, 90, 0.2, 0.2, 0.2])\n",
    "df_poes['Sc'] = np.array([0.3, 0.3, 0.8, 0, 0.7])\n",
    "df_poes['Lim. Min.'] = np.array([50, 0, 0, 0, 1])\n",
    "df_poes['Lim. Max.'] = np.array([0, 180, 0.4, 1, 2])\n",
    "df_poes"
   ]
  },
  {
   "cell_type": "markdown",
   "source": [
    "# Use Loc method from pandas to extract specific values"
   ],
   "metadata": {
    "collapsed": false,
    "pycharm": {
     "name": "#%% md\n"
    }
   }
  },
  {
   "cell_type": "code",
   "execution_count": 27,
   "outputs": [
    {
     "data": {
      "text/plain": "0.16"
     },
     "execution_count": 27,
     "metadata": {},
     "output_type": "execute_result"
    }
   ],
   "source": [
    "df_poes.loc[2, \"Data values\"]"
   ],
   "metadata": {
    "collapsed": false,
    "pycharm": {
     "name": "#%%\n"
    }
   }
  },
  {
   "cell_type": "code",
   "execution_count": 28,
   "outputs": [
    {
     "data": {
      "text/plain": "'Swi'"
     },
     "execution_count": 28,
     "metadata": {},
     "output_type": "execute_result"
    }
   ],
   "source": [
    "df_poes.loc[3, \"Variables\"]"
   ],
   "metadata": {
    "collapsed": false,
    "pycharm": {
     "name": "#%%\n"
    }
   }
  },
  {
   "cell_type": "markdown",
   "source": [
    "# Call param_poes function"
   ],
   "metadata": {
    "collapsed": false,
    "pycharm": {
     "name": "#%% md\n"
    }
   }
  },
  {
   "cell_type": "code",
   "execution_count": 29,
   "outputs": [
    {
     "data": {
      "text/plain": "Index(['Variables', 'Data values', 'Dist.', 'Loc', 'Scale', 'Sc', 'Lim. Min.',\n       'Lim. Max.'],\n      dtype='object')"
     },
     "execution_count": 29,
     "metadata": {},
     "output_type": "execute_result"
    }
   ],
   "source": [
    "df_poes.columns"
   ],
   "metadata": {
    "collapsed": false,
    "pycharm": {
     "name": "#%%\n"
    }
   }
  },
  {
   "cell_type": "code",
   "execution_count": 30,
   "outputs": [
    {
     "data": {
      "text/plain": "  Variables  Data values        Dist.    Loc  Scale   Sc  Lim. Min.  Lim. Max.\n0     Area        340.00   Triangular  400.0  600.0  0.3         50        0.0\n1   Espesor        40.00   Triangular    0.0   90.0  0.3          0      180.0\n2  Porosida         0.16   Log Normal    0.0    0.2  0.8          0        0.4\n3       Swi         0.51       Normal    0.4    0.2  0.0          0        1.0\n4       Boi         2.60  Exponencial    1.0    0.2  0.7          1        2.0",
      "text/html": "<div>\n<style scoped>\n    .dataframe tbody tr th:only-of-type {\n        vertical-align: middle;\n    }\n\n    .dataframe tbody tr th {\n        vertical-align: top;\n    }\n\n    .dataframe thead th {\n        text-align: right;\n    }\n</style>\n<table border=\"1\" class=\"dataframe\">\n  <thead>\n    <tr style=\"text-align: right;\">\n      <th></th>\n      <th>Variables</th>\n      <th>Data values</th>\n      <th>Dist.</th>\n      <th>Loc</th>\n      <th>Scale</th>\n      <th>Sc</th>\n      <th>Lim. Min.</th>\n      <th>Lim. Max.</th>\n    </tr>\n  </thead>\n  <tbody>\n    <tr>\n      <th>0</th>\n      <td>Area</td>\n      <td>340.00</td>\n      <td>Triangular</td>\n      <td>400.0</td>\n      <td>600.0</td>\n      <td>0.3</td>\n      <td>50</td>\n      <td>0.0</td>\n    </tr>\n    <tr>\n      <th>1</th>\n      <td>Espesor</td>\n      <td>40.00</td>\n      <td>Triangular</td>\n      <td>0.0</td>\n      <td>90.0</td>\n      <td>0.3</td>\n      <td>0</td>\n      <td>180.0</td>\n    </tr>\n    <tr>\n      <th>2</th>\n      <td>Porosida</td>\n      <td>0.16</td>\n      <td>Log Normal</td>\n      <td>0.0</td>\n      <td>0.2</td>\n      <td>0.8</td>\n      <td>0</td>\n      <td>0.4</td>\n    </tr>\n    <tr>\n      <th>3</th>\n      <td>Swi</td>\n      <td>0.51</td>\n      <td>Normal</td>\n      <td>0.4</td>\n      <td>0.2</td>\n      <td>0.0</td>\n      <td>0</td>\n      <td>1.0</td>\n    </tr>\n    <tr>\n      <th>4</th>\n      <td>Boi</td>\n      <td>2.60</td>\n      <td>Exponencial</td>\n      <td>1.0</td>\n      <td>0.2</td>\n      <td>0.7</td>\n      <td>1</td>\n      <td>2.0</td>\n    </tr>\n  </tbody>\n</table>\n</div>"
     },
     "execution_count": 30,
     "metadata": {},
     "output_type": "execute_result"
    }
   ],
   "source": [
    "df_poes"
   ],
   "metadata": {
    "collapsed": false,
    "pycharm": {
     "name": "#%%\n"
    }
   }
  },
  {
   "cell_type": "code",
   "execution_count": 31,
   "outputs": [
    {
     "data": {
      "text/plain": "array([20.58661846, 69.44816307, 36.44813367, 23.03801475, 58.40103861,\n       12.01422445, 28.53799651, 40.94900755, 55.25748146, 45.93859079,\n       24.91889272, 27.37917292, 11.91093528, 84.20404269, 77.68506363,\n       27.94532095, 26.61142001, 24.31934882, 58.62506386,  1.6413338 ,\n       49.35902669, 21.67656382, 14.3731305 ,  8.79340894, 35.30921636,\n       11.65460022, 42.59606573, 33.78529998, 54.10407341, 28.33117679,\n        7.30023842, 35.30996197, 25.50765786, 31.21816796, 51.83960969,\n       25.00641352, 55.68010165, 38.53246904, 31.13850816, 34.89781216,\n       19.93191101, 32.44110965, 20.25723409, 68.0225155 , 30.29772576,\n       15.69659213, 23.03627843, 30.18925257, 27.81770835, 30.06840168,\n       87.44110661,  9.79056273, 16.27342273, 23.77497462, 13.87217597,\n       48.76765062, 51.73433657, 39.66487974,  5.49195635, 12.50360826,\n       38.20787824, 39.4203311 , 11.94936517, 72.45441811, 27.47446838,\n       34.30045788, 43.8176396 , 44.73540249, 22.48053252, 45.70255471,\n       28.48589651,  5.73768034, 36.99966892, 39.45286632,  8.54010844,\n       35.98755194,  1.90815576, 78.846413  , 69.61039734, 20.61026452,\n       20.25813592, 23.44914762, 59.92287302, 52.06397198, 27.05697299,\n       65.71942175, 58.25429174, 51.09874484, 35.67902291, 67.72206225,\n       37.67325234, 42.74802543, 85.21480998, 25.03745829, 73.44041352,\n       26.82327835, 35.63468401, 13.0648035 , 39.00150832, 52.02208871])"
     },
     "execution_count": 31,
     "metadata": {},
     "output_type": "execute_result"
    }
   ],
   "source": [
    "param_poes(df_poes, 1, 'Dist.', 'Loc', 'Scale', 100, 'Sc', 'Lim. Min.', 'Lim. Max.')"
   ],
   "metadata": {
    "collapsed": false,
    "pycharm": {
     "name": "#%%\n"
    }
   }
  }
 ],
 "metadata": {
  "kernelspec": {
   "display_name": "Python 3 (ipykernel)",
   "language": "python",
   "name": "python3"
  },
  "language_info": {
   "codemirror_mode": {
    "name": "ipython",
    "version": 3
   },
   "file_extension": ".py",
   "mimetype": "text/x-python",
   "name": "python",
   "nbconvert_exporter": "python",
   "pygments_lexer": "ipython3",
   "version": "3.9.12"
  }
 },
 "nbformat": 4,
 "nbformat_minor": 1
}