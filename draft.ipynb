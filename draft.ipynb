{
 "cells": [
  {
   "cell_type": "markdown",
   "metadata": {
    "pycharm": {
     "name": "#%% md\n"
    }
   },
   "source": [
    "# Import Python libraries"
   ]
  },
  {
   "cell_type": "code",
   "execution_count": 73,
   "metadata": {
    "pycharm": {
     "name": "#%%\n"
    }
   },
   "outputs": [],
   "source": [
    "import xlwings as xw\n",
    "import pandas as pd\n",
    "import numpy as np\n",
    "from poes.model.utils import param_poes"
   ]
  },
  {
   "cell_type": "code",
   "execution_count": 74,
   "metadata": {
    "pycharm": {
     "name": "#%%\n"
    }
   },
   "outputs": [],
   "source": [
    "xb = xw.Book('poes/controller/control.xlsm')"
   ]
  },
  {
   "cell_type": "code",
   "execution_count": 75,
   "metadata": {
    "pycharm": {
     "name": "#%%\n"
    }
   },
   "outputs": [],
   "source": [
    "sheet = xb.sheets['Resumen']"
   ]
  },
  {
   "cell_type": "code",
   "execution_count": 76,
   "metadata": {
    "pycharm": {
     "name": "#%%\n"
    }
   },
   "outputs": [
    {
     "data": {
      "text/plain": "  Variables  Data values         Dist.    Loc  Scale   Sc  Lim. Min.  \\\n0     Area        340.00    Triangular  400.0  600.0  0.3       50.0   \n1   Espesor        40.00    Triangular    0.0   90.0  0.3        0.0   \n2  Porosida         0.16    Log Normal    0.0    0.2  0.8        0.0   \n3       Swi         0.51        Normal    0.4    0.2  NaN        0.0   \n4       Boi         2.60  Exponencial     1.0    0.2  NaN        1.0   \n\n   Lim. Max.  \n0        NaN  \n1      180.0  \n2        0.4  \n3        1.0  \n4        2.0  ",
      "text/html": "<div>\n<style scoped>\n    .dataframe tbody tr th:only-of-type {\n        vertical-align: middle;\n    }\n\n    .dataframe tbody tr th {\n        vertical-align: top;\n    }\n\n    .dataframe thead th {\n        text-align: right;\n    }\n</style>\n<table border=\"1\" class=\"dataframe\">\n  <thead>\n    <tr style=\"text-align: right;\">\n      <th></th>\n      <th>Variables</th>\n      <th>Data values</th>\n      <th>Dist.</th>\n      <th>Loc</th>\n      <th>Scale</th>\n      <th>Sc</th>\n      <th>Lim. Min.</th>\n      <th>Lim. Max.</th>\n    </tr>\n  </thead>\n  <tbody>\n    <tr>\n      <th>0</th>\n      <td>Area</td>\n      <td>340.00</td>\n      <td>Triangular</td>\n      <td>400.0</td>\n      <td>600.0</td>\n      <td>0.3</td>\n      <td>50.0</td>\n      <td>NaN</td>\n    </tr>\n    <tr>\n      <th>1</th>\n      <td>Espesor</td>\n      <td>40.00</td>\n      <td>Triangular</td>\n      <td>0.0</td>\n      <td>90.0</td>\n      <td>0.3</td>\n      <td>0.0</td>\n      <td>180.0</td>\n    </tr>\n    <tr>\n      <th>2</th>\n      <td>Porosida</td>\n      <td>0.16</td>\n      <td>Log Normal</td>\n      <td>0.0</td>\n      <td>0.2</td>\n      <td>0.8</td>\n      <td>0.0</td>\n      <td>0.4</td>\n    </tr>\n    <tr>\n      <th>3</th>\n      <td>Swi</td>\n      <td>0.51</td>\n      <td>Normal</td>\n      <td>0.4</td>\n      <td>0.2</td>\n      <td>NaN</td>\n      <td>0.0</td>\n      <td>1.0</td>\n    </tr>\n    <tr>\n      <th>4</th>\n      <td>Boi</td>\n      <td>2.60</td>\n      <td>Exponencial</td>\n      <td>1.0</td>\n      <td>0.2</td>\n      <td>NaN</td>\n      <td>1.0</td>\n      <td>2.0</td>\n    </tr>\n  </tbody>\n</table>\n</div>"
     },
     "execution_count": 76,
     "metadata": {},
     "output_type": "execute_result"
    }
   ],
   "source": [
    "df_poes = sheet['A2'].options(pd.DataFrame, index=False, expand='table').value\n",
    "df_poes"
   ]
  },
  {
   "cell_type": "markdown",
   "metadata": {
    "pycharm": {
     "name": "#%% md\n"
    }
   },
   "source": [
    "# Exploratory data analysis"
   ]
  },
  {
   "cell_type": "code",
   "execution_count": 77,
   "metadata": {
    "pycharm": {
     "name": "#%%\n"
    }
   },
   "outputs": [
    {
     "data": {
      "text/plain": "Index(['Variables', 'Data values', 'Dist.', 'Loc', 'Scale', 'Sc', 'Lim. Min.',\n       'Lim. Max.'],\n      dtype='object')"
     },
     "execution_count": 77,
     "metadata": {},
     "output_type": "execute_result"
    }
   ],
   "source": [
    "df_poes.columns"
   ]
  },
  {
   "cell_type": "code",
   "execution_count": 78,
   "metadata": {
    "pycharm": {
     "name": "#%%\n"
    }
   },
   "outputs": [],
   "source": [
    "df_poes.columns = df_poes.columns.str.strip()"
   ]
  },
  {
   "cell_type": "code",
   "execution_count": 79,
   "metadata": {
    "pycharm": {
     "name": "#%%\n"
    }
   },
   "outputs": [
    {
     "data": {
      "text/plain": "Index(['Variables', 'Data values', 'Dist.', 'Loc', 'Scale', 'Sc', 'Lim. Min.',\n       'Lim. Max.'],\n      dtype='object')"
     },
     "execution_count": 79,
     "metadata": {},
     "output_type": "execute_result"
    }
   ],
   "source": [
    "df_poes.columns"
   ]
  },
  {
   "cell_type": "code",
   "execution_count": 80,
   "metadata": {
    "pycharm": {
     "name": "#%%\n"
    }
   },
   "outputs": [
    {
     "data": {
      "text/plain": "  Variables  Data values        Dist.    Loc  Scale   Sc  Lim. Min.  Lim. Max.\n0     Area        340.00   Triangular  400.0  600.0  0.3       50.0        NaN\n1   Espesor        40.00   Triangular    0.0   90.0  0.3        0.0      180.0\n2  Porosida         0.16   Log Normal    0.0    0.2  0.8        0.0        0.4\n3       Swi         0.51       Normal    0.4    0.2  NaN        0.0        1.0\n4       Boi         2.60  Exponencial    1.0    0.2  NaN        1.0        2.0",
      "text/html": "<div>\n<style scoped>\n    .dataframe tbody tr th:only-of-type {\n        vertical-align: middle;\n    }\n\n    .dataframe tbody tr th {\n        vertical-align: top;\n    }\n\n    .dataframe thead th {\n        text-align: right;\n    }\n</style>\n<table border=\"1\" class=\"dataframe\">\n  <thead>\n    <tr style=\"text-align: right;\">\n      <th></th>\n      <th>Variables</th>\n      <th>Data values</th>\n      <th>Dist.</th>\n      <th>Loc</th>\n      <th>Scale</th>\n      <th>Sc</th>\n      <th>Lim. Min.</th>\n      <th>Lim. Max.</th>\n    </tr>\n  </thead>\n  <tbody>\n    <tr>\n      <th>0</th>\n      <td>Area</td>\n      <td>340.00</td>\n      <td>Triangular</td>\n      <td>400.0</td>\n      <td>600.0</td>\n      <td>0.3</td>\n      <td>50.0</td>\n      <td>NaN</td>\n    </tr>\n    <tr>\n      <th>1</th>\n      <td>Espesor</td>\n      <td>40.00</td>\n      <td>Triangular</td>\n      <td>0.0</td>\n      <td>90.0</td>\n      <td>0.3</td>\n      <td>0.0</td>\n      <td>180.0</td>\n    </tr>\n    <tr>\n      <th>2</th>\n      <td>Porosida</td>\n      <td>0.16</td>\n      <td>Log Normal</td>\n      <td>0.0</td>\n      <td>0.2</td>\n      <td>0.8</td>\n      <td>0.0</td>\n      <td>0.4</td>\n    </tr>\n    <tr>\n      <th>3</th>\n      <td>Swi</td>\n      <td>0.51</td>\n      <td>Normal</td>\n      <td>0.4</td>\n      <td>0.2</td>\n      <td>NaN</td>\n      <td>0.0</td>\n      <td>1.0</td>\n    </tr>\n    <tr>\n      <th>4</th>\n      <td>Boi</td>\n      <td>2.60</td>\n      <td>Exponencial</td>\n      <td>1.0</td>\n      <td>0.2</td>\n      <td>NaN</td>\n      <td>1.0</td>\n      <td>2.0</td>\n    </tr>\n  </tbody>\n</table>\n</div>"
     },
     "execution_count": 80,
     "metadata": {},
     "output_type": "execute_result"
    }
   ],
   "source": [
    "df_poes['Dist.'] = ['Triangular', 'Triangular', 'Log Normal', 'Normal', 'Exponencial']\n",
    "df_poes"
   ]
  },
  {
   "cell_type": "code",
   "execution_count": 81,
   "metadata": {
    "pycharm": {
     "name": "#%%\n"
    }
   },
   "outputs": [
    {
     "data": {
      "text/plain": "(5, 8)"
     },
     "execution_count": 81,
     "metadata": {},
     "output_type": "execute_result"
    }
   ],
   "source": [
    "df_poes.shape"
   ]
  },
  {
   "cell_type": "code",
   "execution_count": 82,
   "metadata": {
    "pycharm": {
     "name": "#%%\n"
    }
   },
   "outputs": [
    {
     "data": {
      "text/plain": "  Variables  Data values        Dist.    Loc  Scale   Sc  Lim. Min.  Lim. Max.\n0     Area        340.00   Triangular  400.0  600.0  0.3         50        0.0\n1   Espesor        40.00   Triangular    0.0   90.0  0.3          0      180.0\n2  Porosida         0.16   Log Normal    0.0    0.2  0.8          0        0.4\n3       Swi         0.51       Normal    0.4    0.2  0.0          0        1.0\n4       Boi         2.60  Exponencial    1.0    0.2  0.7          1        2.0",
      "text/html": "<div>\n<style scoped>\n    .dataframe tbody tr th:only-of-type {\n        vertical-align: middle;\n    }\n\n    .dataframe tbody tr th {\n        vertical-align: top;\n    }\n\n    .dataframe thead th {\n        text-align: right;\n    }\n</style>\n<table border=\"1\" class=\"dataframe\">\n  <thead>\n    <tr style=\"text-align: right;\">\n      <th></th>\n      <th>Variables</th>\n      <th>Data values</th>\n      <th>Dist.</th>\n      <th>Loc</th>\n      <th>Scale</th>\n      <th>Sc</th>\n      <th>Lim. Min.</th>\n      <th>Lim. Max.</th>\n    </tr>\n  </thead>\n  <tbody>\n    <tr>\n      <th>0</th>\n      <td>Area</td>\n      <td>340.00</td>\n      <td>Triangular</td>\n      <td>400.0</td>\n      <td>600.0</td>\n      <td>0.3</td>\n      <td>50</td>\n      <td>0.0</td>\n    </tr>\n    <tr>\n      <th>1</th>\n      <td>Espesor</td>\n      <td>40.00</td>\n      <td>Triangular</td>\n      <td>0.0</td>\n      <td>90.0</td>\n      <td>0.3</td>\n      <td>0</td>\n      <td>180.0</td>\n    </tr>\n    <tr>\n      <th>2</th>\n      <td>Porosida</td>\n      <td>0.16</td>\n      <td>Log Normal</td>\n      <td>0.0</td>\n      <td>0.2</td>\n      <td>0.8</td>\n      <td>0</td>\n      <td>0.4</td>\n    </tr>\n    <tr>\n      <th>3</th>\n      <td>Swi</td>\n      <td>0.51</td>\n      <td>Normal</td>\n      <td>0.4</td>\n      <td>0.2</td>\n      <td>0.0</td>\n      <td>0</td>\n      <td>1.0</td>\n    </tr>\n    <tr>\n      <th>4</th>\n      <td>Boi</td>\n      <td>2.60</td>\n      <td>Exponencial</td>\n      <td>1.0</td>\n      <td>0.2</td>\n      <td>0.7</td>\n      <td>1</td>\n      <td>2.0</td>\n    </tr>\n  </tbody>\n</table>\n</div>"
     },
     "execution_count": 82,
     "metadata": {},
     "output_type": "execute_result"
    }
   ],
   "source": [
    "df_poes['Loc'] = np.array([400, 0, 0, 0.4, 1])\n",
    "df_poes['Scale'] = np.array([600, 90, 0.2, 0.2, 0.2])\n",
    "df_poes['Sc'] = np.array([0.3, 0.3, 0.8, 0, 0.7])\n",
    "df_poes['Lim. Min.'] = np.array([50, 0, 0, 0, 1])\n",
    "df_poes['Lim. Max.'] = np.array([0, 180, 0.4, 1, 2])\n",
    "df_poes"
   ]
  },
  {
   "cell_type": "markdown",
   "source": [
    "# Use Loc method from pandas to extract specific values"
   ],
   "metadata": {
    "collapsed": false,
    "pycharm": {
     "name": "#%% md\n"
    }
   }
  },
  {
   "cell_type": "code",
   "execution_count": 83,
   "outputs": [
    {
     "data": {
      "text/plain": "0.16"
     },
     "execution_count": 83,
     "metadata": {},
     "output_type": "execute_result"
    }
   ],
   "source": [
    "df_poes.loc[2, \"Data values\"]"
   ],
   "metadata": {
    "collapsed": false,
    "pycharm": {
     "name": "#%%\n"
    }
   }
  },
  {
   "cell_type": "code",
   "execution_count": 84,
   "outputs": [
    {
     "data": {
      "text/plain": "'Swi'"
     },
     "execution_count": 84,
     "metadata": {},
     "output_type": "execute_result"
    }
   ],
   "source": [
    "df_poes.loc[3, \"Variables\"]"
   ],
   "metadata": {
    "collapsed": false,
    "pycharm": {
     "name": "#%%\n"
    }
   }
  },
  {
   "cell_type": "markdown",
   "source": [
    "# Call param_poes function"
   ],
   "metadata": {
    "collapsed": false,
    "pycharm": {
     "name": "#%% md\n"
    }
   }
  },
  {
   "cell_type": "code",
   "execution_count": 85,
   "outputs": [
    {
     "data": {
      "text/plain": "Index(['Variables', 'Data values', 'Dist.', 'Loc', 'Scale', 'Sc', 'Lim. Min.',\n       'Lim. Max.'],\n      dtype='object')"
     },
     "execution_count": 85,
     "metadata": {},
     "output_type": "execute_result"
    }
   ],
   "source": [
    "df_poes.columns"
   ],
   "metadata": {
    "collapsed": false,
    "pycharm": {
     "name": "#%%\n"
    }
   }
  },
  {
   "cell_type": "code",
   "execution_count": 86,
   "outputs": [
    {
     "data": {
      "text/plain": "  Variables  Data values        Dist.    Loc  Scale   Sc  Lim. Min.  Lim. Max.\n0     Area        340.00   Triangular  400.0  600.0  0.3         50        0.0\n1   Espesor        40.00   Triangular    0.0   90.0  0.3          0      180.0\n2  Porosida         0.16   Log Normal    0.0    0.2  0.8          0        0.4\n3       Swi         0.51       Normal    0.4    0.2  0.0          0        1.0\n4       Boi         2.60  Exponencial    1.0    0.2  0.7          1        2.0",
      "text/html": "<div>\n<style scoped>\n    .dataframe tbody tr th:only-of-type {\n        vertical-align: middle;\n    }\n\n    .dataframe tbody tr th {\n        vertical-align: top;\n    }\n\n    .dataframe thead th {\n        text-align: right;\n    }\n</style>\n<table border=\"1\" class=\"dataframe\">\n  <thead>\n    <tr style=\"text-align: right;\">\n      <th></th>\n      <th>Variables</th>\n      <th>Data values</th>\n      <th>Dist.</th>\n      <th>Loc</th>\n      <th>Scale</th>\n      <th>Sc</th>\n      <th>Lim. Min.</th>\n      <th>Lim. Max.</th>\n    </tr>\n  </thead>\n  <tbody>\n    <tr>\n      <th>0</th>\n      <td>Area</td>\n      <td>340.00</td>\n      <td>Triangular</td>\n      <td>400.0</td>\n      <td>600.0</td>\n      <td>0.3</td>\n      <td>50</td>\n      <td>0.0</td>\n    </tr>\n    <tr>\n      <th>1</th>\n      <td>Espesor</td>\n      <td>40.00</td>\n      <td>Triangular</td>\n      <td>0.0</td>\n      <td>90.0</td>\n      <td>0.3</td>\n      <td>0</td>\n      <td>180.0</td>\n    </tr>\n    <tr>\n      <th>2</th>\n      <td>Porosida</td>\n      <td>0.16</td>\n      <td>Log Normal</td>\n      <td>0.0</td>\n      <td>0.2</td>\n      <td>0.8</td>\n      <td>0</td>\n      <td>0.4</td>\n    </tr>\n    <tr>\n      <th>3</th>\n      <td>Swi</td>\n      <td>0.51</td>\n      <td>Normal</td>\n      <td>0.4</td>\n      <td>0.2</td>\n      <td>0.0</td>\n      <td>0</td>\n      <td>1.0</td>\n    </tr>\n    <tr>\n      <th>4</th>\n      <td>Boi</td>\n      <td>2.60</td>\n      <td>Exponencial</td>\n      <td>1.0</td>\n      <td>0.2</td>\n      <td>0.7</td>\n      <td>1</td>\n      <td>2.0</td>\n    </tr>\n  </tbody>\n</table>\n</div>"
     },
     "execution_count": 86,
     "metadata": {},
     "output_type": "execute_result"
    }
   ],
   "source": [
    "df_poes"
   ],
   "metadata": {
    "collapsed": false,
    "pycharm": {
     "name": "#%%\n"
    }
   }
  },
  {
   "cell_type": "code",
   "execution_count": 87,
   "outputs": [
    {
     "data": {
      "text/plain": "array([63.27093622, 25.96470765, 88.55862486, 21.52967935, 69.59950375,\n       38.51463769, 70.86483715, 31.15722729, 24.28470038, 27.58253114,\n       32.75631226, 27.43098967, 56.40766054, 55.94068321, 67.23247511,\n       32.35984577, 47.67949344, 48.87259268, 23.1719948 , 23.57850205,\n       82.70371531, 37.77786383,  7.63033366, 27.29346745, 54.31237336,\n       15.73089329, 20.53920864, 80.6743845 , 10.11755794, 45.91111415,\n       40.43544599, 38.2623523 , 41.57214544, 74.92570452, 19.16627116,\n       20.49586698, 67.2192005 , 23.93703705, 57.74190452, 74.15593902,\n       75.2642023 , 15.94006838, 61.23919442, 37.42337259, 51.87673067,\n       45.37416797, 41.171537  , 45.81142318, 22.21995966, 23.89648216,\n       40.15246982, 28.39302709, 57.60085432, 13.27052498, 43.18341442,\n       18.2288392 , 10.55646362, 17.00096546, 68.43800334, 52.42403432,\n       65.3596522 , 38.80556055, 43.39414862, 30.69760864, 19.00352633,\n        9.57869371, 52.80110134, 33.05050196, 25.01073133, 24.2150948 ,\n       48.41115498, 33.64561368, 58.71470267, 42.59081123, 10.16618749,\n       55.60705296,  5.10994484, 30.81660736, 71.90610072, 16.86195242,\n       56.85701921, 32.98613838, 46.69698917, 19.81654751, 41.36956584,\n       35.73568311,  5.87572017, 37.13402242, 16.62907236, 70.6021336 ,\n       10.07318181, 55.93988511, 14.27042967, 26.93687984, 40.99319794,\n       31.56220647, 10.46680318,  7.91761007, 28.38619877, 28.61777181])"
     },
     "execution_count": 87,
     "metadata": {},
     "output_type": "execute_result"
    }
   ],
   "source": [
    "param_poes(df_poes, 1, 'Dist.', 'Loc', 'Scale', 100, 'Sc', 'Lim. Min.', 'Lim. Max.')"
   ],
   "metadata": {
    "collapsed": false,
    "pycharm": {
     "name": "#%%\n"
    }
   }
  },
  {
   "cell_type": "code",
   "execution_count": 87,
   "outputs": [],
   "source": [],
   "metadata": {
    "collapsed": false,
    "pycharm": {
     "name": "#%%\n"
    }
   }
  }
 ],
 "metadata": {
  "kernelspec": {
   "display_name": "Python 3 (ipykernel)",
   "language": "python",
   "name": "python3"
  },
  "language_info": {
   "codemirror_mode": {
    "name": "ipython",
    "version": 3
   },
   "file_extension": ".py",
   "mimetype": "text/x-python",
   "name": "python",
   "nbconvert_exporter": "python",
   "pygments_lexer": "ipython3",
   "version": "3.9.12"
  }
 },
 "nbformat": 4,
 "nbformat_minor": 1
}