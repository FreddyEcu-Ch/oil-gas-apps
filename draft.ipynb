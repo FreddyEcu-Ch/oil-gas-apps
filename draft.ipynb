{
 "cells": [
  {
   "cell_type": "markdown",
   "metadata": {
    "pycharm": {
     "name": "#%% md\n"
    }
   },
   "source": [
    "# Import Python libraries"
   ]
  },
  {
   "cell_type": "code",
   "execution_count": 32,
   "metadata": {
    "pycharm": {
     "name": "#%%\n"
    }
   },
   "outputs": [],
   "source": [
    "import xlwings as xw\n",
    "import pandas as pd\n",
    "import numpy as np\n",
    "from poes.model.utils import param_poes"
   ]
  },
  {
   "cell_type": "code",
   "execution_count": 33,
   "metadata": {
    "pycharm": {
     "name": "#%%\n"
    }
   },
   "outputs": [],
   "source": [
    "xb = xw.Book('poes/controller/control.xlsm')"
   ]
  },
  {
   "cell_type": "code",
   "execution_count": 34,
   "metadata": {
    "pycharm": {
     "name": "#%%\n"
    }
   },
   "outputs": [],
   "source": [
    "sheet = xb.sheets['Resumen']"
   ]
  },
  {
   "cell_type": "code",
   "execution_count": 35,
   "metadata": {
    "pycharm": {
     "name": "#%%\n"
    }
   },
   "outputs": [
    {
     "data": {
      "text/plain": "  Variables  Data values Dist.   Loc Scale    Sc Lim. Min.  Lim. Max.\n0     Area        340.00  None  None  None  None       None      None\n1   Espesor        40.00  None  None  None  None       None      None\n2  Porosida         0.16  None  None  None  None       None      None\n3       Swi         0.51  None  None  None  None       None      None\n4       Boi         2.60  None  None  None  None       None      None",
      "text/html": "<div>\n<style scoped>\n    .dataframe tbody tr th:only-of-type {\n        vertical-align: middle;\n    }\n\n    .dataframe tbody tr th {\n        vertical-align: top;\n    }\n\n    .dataframe thead th {\n        text-align: right;\n    }\n</style>\n<table border=\"1\" class=\"dataframe\">\n  <thead>\n    <tr style=\"text-align: right;\">\n      <th></th>\n      <th>Variables</th>\n      <th>Data values</th>\n      <th>Dist.</th>\n      <th>Loc</th>\n      <th>Scale</th>\n      <th>Sc</th>\n      <th>Lim. Min.</th>\n      <th>Lim. Max.</th>\n    </tr>\n  </thead>\n  <tbody>\n    <tr>\n      <th>0</th>\n      <td>Area</td>\n      <td>340.00</td>\n      <td>None</td>\n      <td>None</td>\n      <td>None</td>\n      <td>None</td>\n      <td>None</td>\n      <td>None</td>\n    </tr>\n    <tr>\n      <th>1</th>\n      <td>Espesor</td>\n      <td>40.00</td>\n      <td>None</td>\n      <td>None</td>\n      <td>None</td>\n      <td>None</td>\n      <td>None</td>\n      <td>None</td>\n    </tr>\n    <tr>\n      <th>2</th>\n      <td>Porosida</td>\n      <td>0.16</td>\n      <td>None</td>\n      <td>None</td>\n      <td>None</td>\n      <td>None</td>\n      <td>None</td>\n      <td>None</td>\n    </tr>\n    <tr>\n      <th>3</th>\n      <td>Swi</td>\n      <td>0.51</td>\n      <td>None</td>\n      <td>None</td>\n      <td>None</td>\n      <td>None</td>\n      <td>None</td>\n      <td>None</td>\n    </tr>\n    <tr>\n      <th>4</th>\n      <td>Boi</td>\n      <td>2.60</td>\n      <td>None</td>\n      <td>None</td>\n      <td>None</td>\n      <td>None</td>\n      <td>None</td>\n      <td>None</td>\n    </tr>\n  </tbody>\n</table>\n</div>"
     },
     "execution_count": 35,
     "metadata": {},
     "output_type": "execute_result"
    }
   ],
   "source": [
    "df_poes = sheet['A2'].options(pd.DataFrame, index=False, expand='table').value\n",
    "df_poes"
   ]
  },
  {
   "cell_type": "markdown",
   "metadata": {
    "pycharm": {
     "name": "#%% md\n"
    }
   },
   "source": [
    "# Exploratory data analysis"
   ]
  },
  {
   "cell_type": "code",
   "execution_count": 36,
   "metadata": {
    "pycharm": {
     "name": "#%%\n"
    }
   },
   "outputs": [
    {
     "data": {
      "text/plain": "Index(['Variables', 'Data values', 'Dist.', 'Loc', 'Scale', 'Sc', 'Lim. Min. ',\n       'Lim. Max.'],\n      dtype='object')"
     },
     "execution_count": 36,
     "metadata": {},
     "output_type": "execute_result"
    }
   ],
   "source": [
    "df_poes.columns"
   ]
  },
  {
   "cell_type": "code",
   "execution_count": 37,
   "metadata": {
    "pycharm": {
     "name": "#%%\n"
    }
   },
   "outputs": [],
   "source": [
    "df_poes.columns = df_poes.columns.str.strip()"
   ]
  },
  {
   "cell_type": "code",
   "execution_count": 38,
   "metadata": {
    "pycharm": {
     "name": "#%%\n"
    }
   },
   "outputs": [
    {
     "data": {
      "text/plain": "Index(['Variables', 'Data values', 'Dist.', 'Loc', 'Scale', 'Sc', 'Lim. Min.',\n       'Lim. Max.'],\n      dtype='object')"
     },
     "execution_count": 38,
     "metadata": {},
     "output_type": "execute_result"
    }
   ],
   "source": [
    "df_poes.columns"
   ]
  },
  {
   "cell_type": "code",
   "execution_count": 39,
   "metadata": {
    "pycharm": {
     "name": "#%%\n"
    }
   },
   "outputs": [
    {
     "data": {
      "text/plain": "  Variables  Data values        Dist.   Loc Scale    Sc Lim. Min. Lim. Max.\n0     Area        340.00   Triangular  None  None  None      None      None\n1   Espesor        40.00   Triangular  None  None  None      None      None\n2  Porosida         0.16   Log Normal  None  None  None      None      None\n3       Swi         0.51       Normal  None  None  None      None      None\n4       Boi         2.60  Exponencial  None  None  None      None      None",
      "text/html": "<div>\n<style scoped>\n    .dataframe tbody tr th:only-of-type {\n        vertical-align: middle;\n    }\n\n    .dataframe tbody tr th {\n        vertical-align: top;\n    }\n\n    .dataframe thead th {\n        text-align: right;\n    }\n</style>\n<table border=\"1\" class=\"dataframe\">\n  <thead>\n    <tr style=\"text-align: right;\">\n      <th></th>\n      <th>Variables</th>\n      <th>Data values</th>\n      <th>Dist.</th>\n      <th>Loc</th>\n      <th>Scale</th>\n      <th>Sc</th>\n      <th>Lim. Min.</th>\n      <th>Lim. Max.</th>\n    </tr>\n  </thead>\n  <tbody>\n    <tr>\n      <th>0</th>\n      <td>Area</td>\n      <td>340.00</td>\n      <td>Triangular</td>\n      <td>None</td>\n      <td>None</td>\n      <td>None</td>\n      <td>None</td>\n      <td>None</td>\n    </tr>\n    <tr>\n      <th>1</th>\n      <td>Espesor</td>\n      <td>40.00</td>\n      <td>Triangular</td>\n      <td>None</td>\n      <td>None</td>\n      <td>None</td>\n      <td>None</td>\n      <td>None</td>\n    </tr>\n    <tr>\n      <th>2</th>\n      <td>Porosida</td>\n      <td>0.16</td>\n      <td>Log Normal</td>\n      <td>None</td>\n      <td>None</td>\n      <td>None</td>\n      <td>None</td>\n      <td>None</td>\n    </tr>\n    <tr>\n      <th>3</th>\n      <td>Swi</td>\n      <td>0.51</td>\n      <td>Normal</td>\n      <td>None</td>\n      <td>None</td>\n      <td>None</td>\n      <td>None</td>\n      <td>None</td>\n    </tr>\n    <tr>\n      <th>4</th>\n      <td>Boi</td>\n      <td>2.60</td>\n      <td>Exponencial</td>\n      <td>None</td>\n      <td>None</td>\n      <td>None</td>\n      <td>None</td>\n      <td>None</td>\n    </tr>\n  </tbody>\n</table>\n</div>"
     },
     "execution_count": 39,
     "metadata": {},
     "output_type": "execute_result"
    }
   ],
   "source": [
    "df_poes['Dist.'] = ['Triangular', 'Triangular', 'Log Normal', 'Normal', 'Exponencial']\n",
    "df_poes"
   ]
  },
  {
   "cell_type": "code",
   "execution_count": 40,
   "metadata": {
    "pycharm": {
     "name": "#%%\n"
    }
   },
   "outputs": [
    {
     "data": {
      "text/plain": "(5, 8)"
     },
     "execution_count": 40,
     "metadata": {},
     "output_type": "execute_result"
    }
   ],
   "source": [
    "df_poes.shape"
   ]
  },
  {
   "cell_type": "code",
   "execution_count": 41,
   "metadata": {
    "pycharm": {
     "name": "#%%\n"
    }
   },
   "outputs": [
    {
     "data": {
      "text/plain": "  Variables  Data values        Dist.    Loc  Scale   Sc  Lim. Min.  Lim. Max.\n0     Area        340.00   Triangular  400.0  600.0  0.3         50        0.0\n1   Espesor        40.00   Triangular    0.0   90.0  0.3          0      180.0\n2  Porosida         0.16   Log Normal    0.0    0.2  0.8          0        0.4\n3       Swi         0.51       Normal    0.4    0.2  0.0          0        1.0\n4       Boi         2.60  Exponencial    1.0    0.2  0.7          1        2.0",
      "text/html": "<div>\n<style scoped>\n    .dataframe tbody tr th:only-of-type {\n        vertical-align: middle;\n    }\n\n    .dataframe tbody tr th {\n        vertical-align: top;\n    }\n\n    .dataframe thead th {\n        text-align: right;\n    }\n</style>\n<table border=\"1\" class=\"dataframe\">\n  <thead>\n    <tr style=\"text-align: right;\">\n      <th></th>\n      <th>Variables</th>\n      <th>Data values</th>\n      <th>Dist.</th>\n      <th>Loc</th>\n      <th>Scale</th>\n      <th>Sc</th>\n      <th>Lim. Min.</th>\n      <th>Lim. Max.</th>\n    </tr>\n  </thead>\n  <tbody>\n    <tr>\n      <th>0</th>\n      <td>Area</td>\n      <td>340.00</td>\n      <td>Triangular</td>\n      <td>400.0</td>\n      <td>600.0</td>\n      <td>0.3</td>\n      <td>50</td>\n      <td>0.0</td>\n    </tr>\n    <tr>\n      <th>1</th>\n      <td>Espesor</td>\n      <td>40.00</td>\n      <td>Triangular</td>\n      <td>0.0</td>\n      <td>90.0</td>\n      <td>0.3</td>\n      <td>0</td>\n      <td>180.0</td>\n    </tr>\n    <tr>\n      <th>2</th>\n      <td>Porosida</td>\n      <td>0.16</td>\n      <td>Log Normal</td>\n      <td>0.0</td>\n      <td>0.2</td>\n      <td>0.8</td>\n      <td>0</td>\n      <td>0.4</td>\n    </tr>\n    <tr>\n      <th>3</th>\n      <td>Swi</td>\n      <td>0.51</td>\n      <td>Normal</td>\n      <td>0.4</td>\n      <td>0.2</td>\n      <td>0.0</td>\n      <td>0</td>\n      <td>1.0</td>\n    </tr>\n    <tr>\n      <th>4</th>\n      <td>Boi</td>\n      <td>2.60</td>\n      <td>Exponencial</td>\n      <td>1.0</td>\n      <td>0.2</td>\n      <td>0.7</td>\n      <td>1</td>\n      <td>2.0</td>\n    </tr>\n  </tbody>\n</table>\n</div>"
     },
     "execution_count": 41,
     "metadata": {},
     "output_type": "execute_result"
    }
   ],
   "source": [
    "df_poes['Loc'] = np.array([400, 0, 0, 0.4, 1])\n",
    "df_poes['Scale'] = np.array([600, 90, 0.2, 0.2, 0.2])\n",
    "df_poes['Sc'] = np.array([0.3, 0.3, 0.8, 0, 0.7])\n",
    "df_poes['Lim. Min.'] = np.array([50, 0, 0, 0, 1])\n",
    "df_poes['Lim. Max.'] = np.array([0, 180, 0.4, 1, 2])\n",
    "df_poes"
   ]
  },
  {
   "cell_type": "markdown",
   "source": [
    "# Use Loc method from pandas to extract specific values"
   ],
   "metadata": {
    "collapsed": false,
    "pycharm": {
     "name": "#%% md\n"
    }
   }
  },
  {
   "cell_type": "code",
   "execution_count": 42,
   "outputs": [
    {
     "data": {
      "text/plain": "0.16"
     },
     "execution_count": 42,
     "metadata": {},
     "output_type": "execute_result"
    }
   ],
   "source": [
    "df_poes.loc[2, \"Data values\"]"
   ],
   "metadata": {
    "collapsed": false,
    "pycharm": {
     "name": "#%%\n"
    }
   }
  },
  {
   "cell_type": "code",
   "execution_count": 43,
   "outputs": [
    {
     "data": {
      "text/plain": "'Swi'"
     },
     "execution_count": 43,
     "metadata": {},
     "output_type": "execute_result"
    }
   ],
   "source": [
    "df_poes.loc[3, \"Variables\"]"
   ],
   "metadata": {
    "collapsed": false,
    "pycharm": {
     "name": "#%%\n"
    }
   }
  },
  {
   "cell_type": "markdown",
   "source": [
    "# Call param_poes function"
   ],
   "metadata": {
    "collapsed": false,
    "pycharm": {
     "name": "#%% md\n"
    }
   }
  },
  {
   "cell_type": "code",
   "execution_count": 44,
   "outputs": [
    {
     "data": {
      "text/plain": "Index(['Variables', 'Data values', 'Dist.', 'Loc', 'Scale', 'Sc', 'Lim. Min.',\n       'Lim. Max.'],\n      dtype='object')"
     },
     "execution_count": 44,
     "metadata": {},
     "output_type": "execute_result"
    }
   ],
   "source": [
    "df_poes.columns"
   ],
   "metadata": {
    "collapsed": false,
    "pycharm": {
     "name": "#%%\n"
    }
   }
  },
  {
   "cell_type": "code",
   "execution_count": 45,
   "outputs": [
    {
     "data": {
      "text/plain": "  Variables  Data values        Dist.    Loc  Scale   Sc  Lim. Min.  Lim. Max.\n0     Area        340.00   Triangular  400.0  600.0  0.3         50        0.0\n1   Espesor        40.00   Triangular    0.0   90.0  0.3          0      180.0\n2  Porosida         0.16   Log Normal    0.0    0.2  0.8          0        0.4\n3       Swi         0.51       Normal    0.4    0.2  0.0          0        1.0\n4       Boi         2.60  Exponencial    1.0    0.2  0.7          1        2.0",
      "text/html": "<div>\n<style scoped>\n    .dataframe tbody tr th:only-of-type {\n        vertical-align: middle;\n    }\n\n    .dataframe tbody tr th {\n        vertical-align: top;\n    }\n\n    .dataframe thead th {\n        text-align: right;\n    }\n</style>\n<table border=\"1\" class=\"dataframe\">\n  <thead>\n    <tr style=\"text-align: right;\">\n      <th></th>\n      <th>Variables</th>\n      <th>Data values</th>\n      <th>Dist.</th>\n      <th>Loc</th>\n      <th>Scale</th>\n      <th>Sc</th>\n      <th>Lim. Min.</th>\n      <th>Lim. Max.</th>\n    </tr>\n  </thead>\n  <tbody>\n    <tr>\n      <th>0</th>\n      <td>Area</td>\n      <td>340.00</td>\n      <td>Triangular</td>\n      <td>400.0</td>\n      <td>600.0</td>\n      <td>0.3</td>\n      <td>50</td>\n      <td>0.0</td>\n    </tr>\n    <tr>\n      <th>1</th>\n      <td>Espesor</td>\n      <td>40.00</td>\n      <td>Triangular</td>\n      <td>0.0</td>\n      <td>90.0</td>\n      <td>0.3</td>\n      <td>0</td>\n      <td>180.0</td>\n    </tr>\n    <tr>\n      <th>2</th>\n      <td>Porosida</td>\n      <td>0.16</td>\n      <td>Log Normal</td>\n      <td>0.0</td>\n      <td>0.2</td>\n      <td>0.8</td>\n      <td>0</td>\n      <td>0.4</td>\n    </tr>\n    <tr>\n      <th>3</th>\n      <td>Swi</td>\n      <td>0.51</td>\n      <td>Normal</td>\n      <td>0.4</td>\n      <td>0.2</td>\n      <td>0.0</td>\n      <td>0</td>\n      <td>1.0</td>\n    </tr>\n    <tr>\n      <th>4</th>\n      <td>Boi</td>\n      <td>2.60</td>\n      <td>Exponencial</td>\n      <td>1.0</td>\n      <td>0.2</td>\n      <td>0.7</td>\n      <td>1</td>\n      <td>2.0</td>\n    </tr>\n  </tbody>\n</table>\n</div>"
     },
     "execution_count": 45,
     "metadata": {},
     "output_type": "execute_result"
    }
   ],
   "source": [
    "df_poes"
   ],
   "metadata": {
    "collapsed": false,
    "pycharm": {
     "name": "#%%\n"
    }
   }
  },
  {
   "cell_type": "code",
   "execution_count": 46,
   "outputs": [
    {
     "data": {
      "text/plain": "array([70.02755685, 49.00493193, 23.60859285, 37.9054327 , 27.47004816,\n       14.92992277, 32.39803171, 13.50452805, 28.06622764, 27.73508334,\n       14.65006714, 25.17322567, 13.46202305, 54.34608417, 28.49263545,\n       35.8538071 , 15.37094009, 51.79807553, 37.55972526, 24.41746724,\n       12.65372128, 44.64209604, 19.28366906, 44.09447817, 46.76917841,\n       32.26471949, 69.40486941, 45.85958629, 30.96351668, 38.93816777,\n       32.14803517, 50.25522172, 12.61978288, 64.30489395, 29.60918883,\n       24.97600511, 29.34342538, 47.04965707, 25.42403349, 33.21729671,\n       25.94980342, 47.26504379, 37.39338973, 78.54437701, 52.95883675,\n       18.40377098, 14.40922942, 34.97935735, 19.4171141 , 57.7001845 ,\n       28.81862319, 71.13608685,  9.74329031, 22.51467968, 60.79576188,\n       29.88814207, 13.0343022 , 61.67829539, 15.03382337, 42.82764061,\n       27.74108828, 60.07261671, 37.01423365, 58.7356718 , 38.0483404 ,\n       28.58766164, 36.04667853, 21.22245659, 22.21742432, 35.29302971,\n       28.42451552, 55.22778189, 45.21062192, 12.30259799, 76.46943215,\n       11.91789747, 35.68789224, 22.56483062, 27.41055962, 59.74894253,\n       31.43311934, 22.19566505, 14.04188709, 20.33043666, 48.31692291,\n       32.38489861, 45.52620295, 17.71061106, 39.59293132, 22.92118598,\n       18.61384455, 21.71083935, 59.85455632, 69.32663674, 16.76344083,\n        9.15180399, 31.53445756, 33.2095507 , 52.50155951, 38.97391645])"
     },
     "execution_count": 46,
     "metadata": {},
     "output_type": "execute_result"
    }
   ],
   "source": [
    "param_poes(df_poes, 1, 'Dist.', 'Loc', 'Scale', 100, 'Sc', 'Lim. Min.', 'Lim. Max.')"
   ],
   "metadata": {
    "collapsed": false,
    "pycharm": {
     "name": "#%%\n"
    }
   }
  }
 ],
 "metadata": {
  "kernelspec": {
   "display_name": "Python 3 (ipykernel)",
   "language": "python",
   "name": "python3"
  },
  "language_info": {
   "codemirror_mode": {
    "name": "ipython",
    "version": 3
   },
   "file_extension": ".py",
   "mimetype": "text/x-python",
   "name": "python",
   "nbconvert_exporter": "python",
   "pygments_lexer": "ipython3",
   "version": "3.9.12"
  }
 },
 "nbformat": 4,
 "nbformat_minor": 1
}