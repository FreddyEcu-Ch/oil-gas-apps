{
 "cells": [
  {
   "cell_type": "markdown",
   "metadata": {
    "pycharm": {
     "name": "#%% md\n"
    }
   },
   "source": [
    "# Import Python libraries"
   ]
  },
  {
   "cell_type": "code",
   "execution_count": 1,
   "metadata": {
    "pycharm": {
     "name": "#%%\n"
    }
   },
   "outputs": [],
   "source": [
    "import xlwings as xw\n",
    "import pandas as pd\n",
    "import numpy as np\n",
    "from poes.model.utils import param_poes"
   ]
  },
  {
   "cell_type": "code",
   "execution_count": 2,
   "metadata": {
    "pycharm": {
     "name": "#%%\n"
    }
   },
   "outputs": [],
   "source": [
    "xb = xw.Book('poes/controller/control.xlsm')"
   ]
  },
  {
   "cell_type": "code",
   "execution_count": 3,
   "metadata": {
    "pycharm": {
     "name": "#%%\n"
    }
   },
   "outputs": [],
   "source": [
    "sheet = xb.sheets['Resumen']"
   ]
  },
  {
   "cell_type": "code",
   "execution_count": 4,
   "metadata": {
    "pycharm": {
     "name": "#%%\n"
    }
   },
   "outputs": [
    {
     "data": {
      "text/plain": "  Variables  Data values Dist.   Loc Scale    Sc Lim. Min.  Lim. Max.\n0     Area        340.00  None  None  None  None       None      None\n1   Espesor        40.00  None  None  None  None       None      None\n2  Porosida         0.16  None  None  None  None       None      None\n3       Swi         0.51  None  None  None  None       None      None\n4       Boi         2.60  None  None  None  None       None      None",
      "text/html": "<div>\n<style scoped>\n    .dataframe tbody tr th:only-of-type {\n        vertical-align: middle;\n    }\n\n    .dataframe tbody tr th {\n        vertical-align: top;\n    }\n\n    .dataframe thead th {\n        text-align: right;\n    }\n</style>\n<table border=\"1\" class=\"dataframe\">\n  <thead>\n    <tr style=\"text-align: right;\">\n      <th></th>\n      <th>Variables</th>\n      <th>Data values</th>\n      <th>Dist.</th>\n      <th>Loc</th>\n      <th>Scale</th>\n      <th>Sc</th>\n      <th>Lim. Min.</th>\n      <th>Lim. Max.</th>\n    </tr>\n  </thead>\n  <tbody>\n    <tr>\n      <th>0</th>\n      <td>Area</td>\n      <td>340.00</td>\n      <td>None</td>\n      <td>None</td>\n      <td>None</td>\n      <td>None</td>\n      <td>None</td>\n      <td>None</td>\n    </tr>\n    <tr>\n      <th>1</th>\n      <td>Espesor</td>\n      <td>40.00</td>\n      <td>None</td>\n      <td>None</td>\n      <td>None</td>\n      <td>None</td>\n      <td>None</td>\n      <td>None</td>\n    </tr>\n    <tr>\n      <th>2</th>\n      <td>Porosida</td>\n      <td>0.16</td>\n      <td>None</td>\n      <td>None</td>\n      <td>None</td>\n      <td>None</td>\n      <td>None</td>\n      <td>None</td>\n    </tr>\n    <tr>\n      <th>3</th>\n      <td>Swi</td>\n      <td>0.51</td>\n      <td>None</td>\n      <td>None</td>\n      <td>None</td>\n      <td>None</td>\n      <td>None</td>\n      <td>None</td>\n    </tr>\n    <tr>\n      <th>4</th>\n      <td>Boi</td>\n      <td>2.60</td>\n      <td>None</td>\n      <td>None</td>\n      <td>None</td>\n      <td>None</td>\n      <td>None</td>\n      <td>None</td>\n    </tr>\n  </tbody>\n</table>\n</div>"
     },
     "execution_count": 4,
     "metadata": {},
     "output_type": "execute_result"
    }
   ],
   "source": [
    "df_poes = sheet['A2'].options(pd.DataFrame, index=False, expand='table').value\n",
    "df_poes"
   ]
  },
  {
   "cell_type": "markdown",
   "metadata": {
    "pycharm": {
     "name": "#%% md\n"
    }
   },
   "source": [
    "# Exploratory data analysis"
   ]
  },
  {
   "cell_type": "code",
   "execution_count": 5,
   "metadata": {
    "pycharm": {
     "name": "#%%\n"
    }
   },
   "outputs": [
    {
     "data": {
      "text/plain": "Index(['Variables', 'Data values', 'Dist.', 'Loc', 'Scale', 'Sc', 'Lim. Min. ',\n       'Lim. Max.'],\n      dtype='object')"
     },
     "execution_count": 5,
     "metadata": {},
     "output_type": "execute_result"
    }
   ],
   "source": [
    "df_poes.columns"
   ]
  },
  {
   "cell_type": "code",
   "execution_count": 6,
   "metadata": {
    "pycharm": {
     "name": "#%%\n"
    }
   },
   "outputs": [],
   "source": [
    "df_poes.columns = df_poes.columns.str.strip()"
   ]
  },
  {
   "cell_type": "code",
   "execution_count": 7,
   "metadata": {
    "pycharm": {
     "name": "#%%\n"
    }
   },
   "outputs": [
    {
     "data": {
      "text/plain": "Index(['Variables', 'Data values', 'Dist.', 'Loc', 'Scale', 'Sc', 'Lim. Min.',\n       'Lim. Max.'],\n      dtype='object')"
     },
     "execution_count": 7,
     "metadata": {},
     "output_type": "execute_result"
    }
   ],
   "source": [
    "df_poes.columns"
   ]
  },
  {
   "cell_type": "code",
   "execution_count": 8,
   "metadata": {
    "pycharm": {
     "name": "#%%\n"
    }
   },
   "outputs": [
    {
     "data": {
      "text/plain": "  Variables  Data values        Dist.   Loc Scale    Sc Lim. Min. Lim. Max.\n0     Area        340.00   Triangular  None  None  None      None      None\n1   Espesor        40.00   Triangular  None  None  None      None      None\n2  Porosida         0.16   Log Normal  None  None  None      None      None\n3       Swi         0.51       Normal  None  None  None      None      None\n4       Boi         2.60  Exponencial  None  None  None      None      None",
      "text/html": "<div>\n<style scoped>\n    .dataframe tbody tr th:only-of-type {\n        vertical-align: middle;\n    }\n\n    .dataframe tbody tr th {\n        vertical-align: top;\n    }\n\n    .dataframe thead th {\n        text-align: right;\n    }\n</style>\n<table border=\"1\" class=\"dataframe\">\n  <thead>\n    <tr style=\"text-align: right;\">\n      <th></th>\n      <th>Variables</th>\n      <th>Data values</th>\n      <th>Dist.</th>\n      <th>Loc</th>\n      <th>Scale</th>\n      <th>Sc</th>\n      <th>Lim. Min.</th>\n      <th>Lim. Max.</th>\n    </tr>\n  </thead>\n  <tbody>\n    <tr>\n      <th>0</th>\n      <td>Area</td>\n      <td>340.00</td>\n      <td>Triangular</td>\n      <td>None</td>\n      <td>None</td>\n      <td>None</td>\n      <td>None</td>\n      <td>None</td>\n    </tr>\n    <tr>\n      <th>1</th>\n      <td>Espesor</td>\n      <td>40.00</td>\n      <td>Triangular</td>\n      <td>None</td>\n      <td>None</td>\n      <td>None</td>\n      <td>None</td>\n      <td>None</td>\n    </tr>\n    <tr>\n      <th>2</th>\n      <td>Porosida</td>\n      <td>0.16</td>\n      <td>Log Normal</td>\n      <td>None</td>\n      <td>None</td>\n      <td>None</td>\n      <td>None</td>\n      <td>None</td>\n    </tr>\n    <tr>\n      <th>3</th>\n      <td>Swi</td>\n      <td>0.51</td>\n      <td>Normal</td>\n      <td>None</td>\n      <td>None</td>\n      <td>None</td>\n      <td>None</td>\n      <td>None</td>\n    </tr>\n    <tr>\n      <th>4</th>\n      <td>Boi</td>\n      <td>2.60</td>\n      <td>Exponencial</td>\n      <td>None</td>\n      <td>None</td>\n      <td>None</td>\n      <td>None</td>\n      <td>None</td>\n    </tr>\n  </tbody>\n</table>\n</div>"
     },
     "execution_count": 8,
     "metadata": {},
     "output_type": "execute_result"
    }
   ],
   "source": [
    "df_poes['Dist.'] = ['Triangular', 'Triangular', 'Log Normal', 'Normal', 'Exponencial']\n",
    "df_poes"
   ]
  },
  {
   "cell_type": "code",
   "execution_count": 9,
   "metadata": {
    "pycharm": {
     "name": "#%%\n"
    }
   },
   "outputs": [
    {
     "data": {
      "text/plain": "(5, 8)"
     },
     "execution_count": 9,
     "metadata": {},
     "output_type": "execute_result"
    }
   ],
   "source": [
    "df_poes.shape"
   ]
  },
  {
   "cell_type": "code",
   "execution_count": 10,
   "metadata": {
    "pycharm": {
     "name": "#%%\n"
    }
   },
   "outputs": [
    {
     "data": {
      "text/plain": "  Variables  Data values        Dist.    Loc  Scale   Sc  Lim. Min.  Lim. Max.\n0     Area        340.00   Triangular  400.0  600.0  0.3         50        0.0\n1   Espesor        40.00   Triangular    0.0   90.0  0.3          0      180.0\n2  Porosida         0.16   Log Normal    0.0    0.2  0.8          0        0.4\n3       Swi         0.51       Normal    0.4    0.2  0.0          0        1.0\n4       Boi         2.60  Exponencial    1.0    0.2  0.7          1        2.0",
      "text/html": "<div>\n<style scoped>\n    .dataframe tbody tr th:only-of-type {\n        vertical-align: middle;\n    }\n\n    .dataframe tbody tr th {\n        vertical-align: top;\n    }\n\n    .dataframe thead th {\n        text-align: right;\n    }\n</style>\n<table border=\"1\" class=\"dataframe\">\n  <thead>\n    <tr style=\"text-align: right;\">\n      <th></th>\n      <th>Variables</th>\n      <th>Data values</th>\n      <th>Dist.</th>\n      <th>Loc</th>\n      <th>Scale</th>\n      <th>Sc</th>\n      <th>Lim. Min.</th>\n      <th>Lim. Max.</th>\n    </tr>\n  </thead>\n  <tbody>\n    <tr>\n      <th>0</th>\n      <td>Area</td>\n      <td>340.00</td>\n      <td>Triangular</td>\n      <td>400.0</td>\n      <td>600.0</td>\n      <td>0.3</td>\n      <td>50</td>\n      <td>0.0</td>\n    </tr>\n    <tr>\n      <th>1</th>\n      <td>Espesor</td>\n      <td>40.00</td>\n      <td>Triangular</td>\n      <td>0.0</td>\n      <td>90.0</td>\n      <td>0.3</td>\n      <td>0</td>\n      <td>180.0</td>\n    </tr>\n    <tr>\n      <th>2</th>\n      <td>Porosida</td>\n      <td>0.16</td>\n      <td>Log Normal</td>\n      <td>0.0</td>\n      <td>0.2</td>\n      <td>0.8</td>\n      <td>0</td>\n      <td>0.4</td>\n    </tr>\n    <tr>\n      <th>3</th>\n      <td>Swi</td>\n      <td>0.51</td>\n      <td>Normal</td>\n      <td>0.4</td>\n      <td>0.2</td>\n      <td>0.0</td>\n      <td>0</td>\n      <td>1.0</td>\n    </tr>\n    <tr>\n      <th>4</th>\n      <td>Boi</td>\n      <td>2.60</td>\n      <td>Exponencial</td>\n      <td>1.0</td>\n      <td>0.2</td>\n      <td>0.7</td>\n      <td>1</td>\n      <td>2.0</td>\n    </tr>\n  </tbody>\n</table>\n</div>"
     },
     "execution_count": 10,
     "metadata": {},
     "output_type": "execute_result"
    }
   ],
   "source": [
    "df_poes['Loc'] = np.array([400, 0, 0, 0.4, 1])\n",
    "df_poes['Scale'] = np.array([600, 90, 0.2, 0.2, 0.2])\n",
    "df_poes['Sc'] = np.array([0.3, 0.3, 0.8, 0, 0.7])\n",
    "df_poes['Lim. Min.'] = np.array([50, 0, 0, 0, 1])\n",
    "df_poes['Lim. Max.'] = np.array([0, 180, 0.4, 1, 2])\n",
    "df_poes"
   ]
  },
  {
   "cell_type": "markdown",
   "source": [
    "# Use Loc method from pandas to extract specific values"
   ],
   "metadata": {
    "collapsed": false,
    "pycharm": {
     "name": "#%% md\n"
    }
   }
  },
  {
   "cell_type": "code",
   "execution_count": 11,
   "outputs": [
    {
     "data": {
      "text/plain": "0.16"
     },
     "execution_count": 11,
     "metadata": {},
     "output_type": "execute_result"
    }
   ],
   "source": [
    "df_poes.loc[2, \"Data values\"]"
   ],
   "metadata": {
    "collapsed": false,
    "pycharm": {
     "name": "#%%\n"
    }
   }
  },
  {
   "cell_type": "code",
   "execution_count": 12,
   "outputs": [
    {
     "data": {
      "text/plain": "'Swi'"
     },
     "execution_count": 12,
     "metadata": {},
     "output_type": "execute_result"
    }
   ],
   "source": [
    "df_poes.loc[3, \"Variables\"]"
   ],
   "metadata": {
    "collapsed": false,
    "pycharm": {
     "name": "#%%\n"
    }
   }
  },
  {
   "cell_type": "markdown",
   "source": [
    "# Call param_poes function"
   ],
   "metadata": {
    "collapsed": false,
    "pycharm": {
     "name": "#%% md\n"
    }
   }
  },
  {
   "cell_type": "code",
   "execution_count": 13,
   "outputs": [
    {
     "data": {
      "text/plain": "Index(['Variables', 'Data values', 'Dist.', 'Loc', 'Scale', 'Sc', 'Lim. Min.',\n       'Lim. Max.'],\n      dtype='object')"
     },
     "execution_count": 13,
     "metadata": {},
     "output_type": "execute_result"
    }
   ],
   "source": [
    "df_poes.columns"
   ],
   "metadata": {
    "collapsed": false,
    "pycharm": {
     "name": "#%%\n"
    }
   }
  },
  {
   "cell_type": "code",
   "execution_count": 14,
   "outputs": [
    {
     "data": {
      "text/plain": "  Variables  Data values        Dist.    Loc  Scale   Sc  Lim. Min.  Lim. Max.\n0     Area        340.00   Triangular  400.0  600.0  0.3         50        0.0\n1   Espesor        40.00   Triangular    0.0   90.0  0.3          0      180.0\n2  Porosida         0.16   Log Normal    0.0    0.2  0.8          0        0.4\n3       Swi         0.51       Normal    0.4    0.2  0.0          0        1.0\n4       Boi         2.60  Exponencial    1.0    0.2  0.7          1        2.0",
      "text/html": "<div>\n<style scoped>\n    .dataframe tbody tr th:only-of-type {\n        vertical-align: middle;\n    }\n\n    .dataframe tbody tr th {\n        vertical-align: top;\n    }\n\n    .dataframe thead th {\n        text-align: right;\n    }\n</style>\n<table border=\"1\" class=\"dataframe\">\n  <thead>\n    <tr style=\"text-align: right;\">\n      <th></th>\n      <th>Variables</th>\n      <th>Data values</th>\n      <th>Dist.</th>\n      <th>Loc</th>\n      <th>Scale</th>\n      <th>Sc</th>\n      <th>Lim. Min.</th>\n      <th>Lim. Max.</th>\n    </tr>\n  </thead>\n  <tbody>\n    <tr>\n      <th>0</th>\n      <td>Area</td>\n      <td>340.00</td>\n      <td>Triangular</td>\n      <td>400.0</td>\n      <td>600.0</td>\n      <td>0.3</td>\n      <td>50</td>\n      <td>0.0</td>\n    </tr>\n    <tr>\n      <th>1</th>\n      <td>Espesor</td>\n      <td>40.00</td>\n      <td>Triangular</td>\n      <td>0.0</td>\n      <td>90.0</td>\n      <td>0.3</td>\n      <td>0</td>\n      <td>180.0</td>\n    </tr>\n    <tr>\n      <th>2</th>\n      <td>Porosida</td>\n      <td>0.16</td>\n      <td>Log Normal</td>\n      <td>0.0</td>\n      <td>0.2</td>\n      <td>0.8</td>\n      <td>0</td>\n      <td>0.4</td>\n    </tr>\n    <tr>\n      <th>3</th>\n      <td>Swi</td>\n      <td>0.51</td>\n      <td>Normal</td>\n      <td>0.4</td>\n      <td>0.2</td>\n      <td>0.0</td>\n      <td>0</td>\n      <td>1.0</td>\n    </tr>\n    <tr>\n      <th>4</th>\n      <td>Boi</td>\n      <td>2.60</td>\n      <td>Exponencial</td>\n      <td>1.0</td>\n      <td>0.2</td>\n      <td>0.7</td>\n      <td>1</td>\n      <td>2.0</td>\n    </tr>\n  </tbody>\n</table>\n</div>"
     },
     "execution_count": 14,
     "metadata": {},
     "output_type": "execute_result"
    }
   ],
   "source": [
    "df_poes"
   ],
   "metadata": {
    "collapsed": false,
    "pycharm": {
     "name": "#%%\n"
    }
   }
  },
  {
   "cell_type": "code",
   "execution_count": 15,
   "outputs": [
    {
     "data": {
      "text/plain": "array([ 5.16981731, 41.28700168, 34.88688094, 20.54890703, 21.40641791,\n        7.85086608, 41.6032003 , 58.04676748, 57.64571437, 19.99706335,\n       14.71437115, 29.9272218 , 53.41142984, 39.1307952 , 21.80874342,\n       68.2819097 , 30.51688672, 38.67397463,  9.52909492, 77.13968654,\n       51.39599036, 43.23874716, 11.92585255, 54.2411967 , 29.57265324,\n       37.41115632, 22.55578868, 17.94519517, 72.52094498, 23.03178025,\n       70.85980912, 28.01143875, 24.09774611, 35.93758203, 67.85818138,\n       37.28485499, 51.76885566, 52.90168273, 23.34472478, 28.62477313,\n       36.48740147, 42.32147368, 46.35310917, 16.65417625, 33.52255908,\n       16.29901787, 52.7435    , 53.62492698, 22.41538765, 29.88128204,\n       24.0104462 , 65.75486411, 52.34644721, 35.99269895, 41.63672035,\n       81.04920249, 23.3120371 , 57.22897586, 56.69560207, 30.75542239,\n       27.86409317, 54.89618815, 58.84721619, 39.2158645 , 40.14735704,\n       30.82008501, 47.1410139 , 10.39154833, 43.04626633, 23.20579856,\n       26.4600864 , 47.42684507, 31.13895322, 40.30295024,  6.48773509,\n       21.68564172, 53.53528974, 69.35758845, 68.67785157, 45.35064296,\n       10.41144173, 79.28405849, 49.96148291, 53.46725828, 64.27155225,\n        9.6421031 , 20.88307954, 30.36784306, 40.16966629, 22.45786483,\n       48.65253768, 43.85989383, 68.09957929, 33.61185605, 53.71150205,\n       60.48390327,  7.21698767, 33.31806538, 20.68003349, 48.02674844])"
     },
     "execution_count": 15,
     "metadata": {},
     "output_type": "execute_result"
    }
   ],
   "source": [
    "param_poes(df_poes, 1, 'Dist.', 'Loc', 'Scale', 100, 'Sc', 'Lim. Min.', 'Lim. Max.')"
   ],
   "metadata": {
    "collapsed": false,
    "pycharm": {
     "name": "#%%\n"
    }
   }
  }
 ],
 "metadata": {
  "kernelspec": {
   "display_name": "Python 3 (ipykernel)",
   "language": "python",
   "name": "python3"
  },
  "language_info": {
   "codemirror_mode": {
    "name": "ipython",
    "version": 3
   },
   "file_extension": ".py",
   "mimetype": "text/x-python",
   "name": "python",
   "nbconvert_exporter": "python",
   "pygments_lexer": "ipython3",
   "version": "3.9.12"
  }
 },
 "nbformat": 4,
 "nbformat_minor": 1
}