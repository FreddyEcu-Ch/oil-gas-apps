{
 "cells": [
  {
   "cell_type": "markdown",
   "metadata": {
    "pycharm": {
     "name": "#%% md\n"
    }
   },
   "source": [
    "# Import Python libraries"
   ]
  },
  {
   "cell_type": "code",
   "execution_count": 144,
   "metadata": {
    "pycharm": {
     "name": "#%%\n"
    }
   },
   "outputs": [],
   "source": [
    "import xlwings as xw\n",
    "import pandas as pd\n",
    "import numpy as np\n",
    "from poes.model.utils import param_poes\n",
    "from scipy.stats import norm, lognorm, expon, triang, uniform"
   ]
  },
  {
   "cell_type": "code",
   "execution_count": 129,
   "metadata": {
    "pycharm": {
     "name": "#%%\n"
    }
   },
   "outputs": [],
   "source": [
    "xb = xw.Book('poes/controller/control.xlsm')"
   ]
  },
  {
   "cell_type": "code",
   "execution_count": 130,
   "metadata": {
    "pycharm": {
     "name": "#%%\n"
    }
   },
   "outputs": [],
   "source": [
    "sheet = xb.sheets['Resumen']"
   ]
  },
  {
   "cell_type": "code",
   "execution_count": 131,
   "metadata": {
    "pycharm": {
     "name": "#%%\n"
    }
   },
   "outputs": [
    {
     "data": {
      "text/plain": "  Variables  Data values Dist.   Loc Scale    Sc Lim. Min.  Lim. Max.\n0     Area        340.00  None  None  None  None       None      None\n1   Espesor        40.00  None  None  None  None       None      None\n2  Porosida         0.16  None  None  None  None       None      None\n3       Swi         0.51  None  None  None  None       None      None\n4       Boi         2.60  None  None  None  None       None      None",
      "text/html": "<div>\n<style scoped>\n    .dataframe tbody tr th:only-of-type {\n        vertical-align: middle;\n    }\n\n    .dataframe tbody tr th {\n        vertical-align: top;\n    }\n\n    .dataframe thead th {\n        text-align: right;\n    }\n</style>\n<table border=\"1\" class=\"dataframe\">\n  <thead>\n    <tr style=\"text-align: right;\">\n      <th></th>\n      <th>Variables</th>\n      <th>Data values</th>\n      <th>Dist.</th>\n      <th>Loc</th>\n      <th>Scale</th>\n      <th>Sc</th>\n      <th>Lim. Min.</th>\n      <th>Lim. Max.</th>\n    </tr>\n  </thead>\n  <tbody>\n    <tr>\n      <th>0</th>\n      <td>Area</td>\n      <td>340.00</td>\n      <td>None</td>\n      <td>None</td>\n      <td>None</td>\n      <td>None</td>\n      <td>None</td>\n      <td>None</td>\n    </tr>\n    <tr>\n      <th>1</th>\n      <td>Espesor</td>\n      <td>40.00</td>\n      <td>None</td>\n      <td>None</td>\n      <td>None</td>\n      <td>None</td>\n      <td>None</td>\n      <td>None</td>\n    </tr>\n    <tr>\n      <th>2</th>\n      <td>Porosida</td>\n      <td>0.16</td>\n      <td>None</td>\n      <td>None</td>\n      <td>None</td>\n      <td>None</td>\n      <td>None</td>\n      <td>None</td>\n    </tr>\n    <tr>\n      <th>3</th>\n      <td>Swi</td>\n      <td>0.51</td>\n      <td>None</td>\n      <td>None</td>\n      <td>None</td>\n      <td>None</td>\n      <td>None</td>\n      <td>None</td>\n    </tr>\n    <tr>\n      <th>4</th>\n      <td>Boi</td>\n      <td>2.60</td>\n      <td>None</td>\n      <td>None</td>\n      <td>None</td>\n      <td>None</td>\n      <td>None</td>\n      <td>None</td>\n    </tr>\n  </tbody>\n</table>\n</div>"
     },
     "execution_count": 131,
     "metadata": {},
     "output_type": "execute_result"
    }
   ],
   "source": [
    "df_poes = sheet['A2'].options(pd.DataFrame, index=False, expand='table').value\n",
    "df_poes"
   ]
  },
  {
   "cell_type": "markdown",
   "metadata": {
    "pycharm": {
     "name": "#%% md\n"
    }
   },
   "source": [
    "# Exploratory data analysis"
   ]
  },
  {
   "cell_type": "code",
   "execution_count": 132,
   "metadata": {
    "pycharm": {
     "name": "#%%\n"
    }
   },
   "outputs": [
    {
     "data": {
      "text/plain": "Index(['Variables', 'Data values', 'Dist.', 'Loc', 'Scale', 'Sc', 'Lim. Min. ',\n       'Lim. Max.'],\n      dtype='object')"
     },
     "execution_count": 132,
     "metadata": {},
     "output_type": "execute_result"
    }
   ],
   "source": [
    "df_poes.columns"
   ]
  },
  {
   "cell_type": "code",
   "execution_count": 133,
   "metadata": {
    "pycharm": {
     "name": "#%%\n"
    }
   },
   "outputs": [],
   "source": [
    "df_poes.columns = df_poes.columns.str.strip()"
   ]
  },
  {
   "cell_type": "code",
   "execution_count": 134,
   "metadata": {
    "pycharm": {
     "name": "#%%\n"
    }
   },
   "outputs": [
    {
     "data": {
      "text/plain": "Index(['Variables', 'Data values', 'Dist.', 'Loc', 'Scale', 'Sc', 'Lim. Min.',\n       'Lim. Max.'],\n      dtype='object')"
     },
     "execution_count": 134,
     "metadata": {},
     "output_type": "execute_result"
    }
   ],
   "source": [
    "df_poes.columns"
   ]
  },
  {
   "cell_type": "code",
   "execution_count": 135,
   "metadata": {
    "pycharm": {
     "name": "#%%\n"
    }
   },
   "outputs": [
    {
     "data": {
      "text/plain": "  Variables  Data values        Dist.   Loc Scale    Sc Lim. Min. Lim. Max.\n0     Area        340.00   Triangular  None  None  None      None      None\n1   Espesor        40.00   Triangular  None  None  None      None      None\n2  Porosida         0.16   Log Normal  None  None  None      None      None\n3       Swi         0.51       Normal  None  None  None      None      None\n4       Boi         2.60  Exponencial  None  None  None      None      None",
      "text/html": "<div>\n<style scoped>\n    .dataframe tbody tr th:only-of-type {\n        vertical-align: middle;\n    }\n\n    .dataframe tbody tr th {\n        vertical-align: top;\n    }\n\n    .dataframe thead th {\n        text-align: right;\n    }\n</style>\n<table border=\"1\" class=\"dataframe\">\n  <thead>\n    <tr style=\"text-align: right;\">\n      <th></th>\n      <th>Variables</th>\n      <th>Data values</th>\n      <th>Dist.</th>\n      <th>Loc</th>\n      <th>Scale</th>\n      <th>Sc</th>\n      <th>Lim. Min.</th>\n      <th>Lim. Max.</th>\n    </tr>\n  </thead>\n  <tbody>\n    <tr>\n      <th>0</th>\n      <td>Area</td>\n      <td>340.00</td>\n      <td>Triangular</td>\n      <td>None</td>\n      <td>None</td>\n      <td>None</td>\n      <td>None</td>\n      <td>None</td>\n    </tr>\n    <tr>\n      <th>1</th>\n      <td>Espesor</td>\n      <td>40.00</td>\n      <td>Triangular</td>\n      <td>None</td>\n      <td>None</td>\n      <td>None</td>\n      <td>None</td>\n      <td>None</td>\n    </tr>\n    <tr>\n      <th>2</th>\n      <td>Porosida</td>\n      <td>0.16</td>\n      <td>Log Normal</td>\n      <td>None</td>\n      <td>None</td>\n      <td>None</td>\n      <td>None</td>\n      <td>None</td>\n    </tr>\n    <tr>\n      <th>3</th>\n      <td>Swi</td>\n      <td>0.51</td>\n      <td>Normal</td>\n      <td>None</td>\n      <td>None</td>\n      <td>None</td>\n      <td>None</td>\n      <td>None</td>\n    </tr>\n    <tr>\n      <th>4</th>\n      <td>Boi</td>\n      <td>2.60</td>\n      <td>Exponencial</td>\n      <td>None</td>\n      <td>None</td>\n      <td>None</td>\n      <td>None</td>\n      <td>None</td>\n    </tr>\n  </tbody>\n</table>\n</div>"
     },
     "execution_count": 135,
     "metadata": {},
     "output_type": "execute_result"
    }
   ],
   "source": [
    "df_poes['Dist.'] = ['Triangular', 'Triangular', 'Log Normal', 'Normal', 'Exponencial']\n",
    "df_poes"
   ]
  },
  {
   "cell_type": "code",
   "execution_count": 136,
   "metadata": {
    "pycharm": {
     "name": "#%%\n"
    }
   },
   "outputs": [
    {
     "data": {
      "text/plain": "(5, 8)"
     },
     "execution_count": 136,
     "metadata": {},
     "output_type": "execute_result"
    }
   ],
   "source": [
    "df_poes.shape"
   ]
  },
  {
   "cell_type": "code",
   "execution_count": 137,
   "metadata": {
    "pycharm": {
     "name": "#%%\n"
    }
   },
   "outputs": [
    {
     "data": {
      "text/plain": "  Variables  Data values        Dist.    Loc  Scale   Sc  Lim. Min.  Lim. Max.\n0     Area        340.00   Triangular  400.0  600.0  0.3         50        0.0\n1   Espesor        40.00   Triangular    0.0   90.0  0.3          0      180.0\n2  Porosida         0.16   Log Normal    0.0    0.2  0.8          0        0.4\n3       Swi         0.51       Normal    0.4    0.2  0.0          0        1.0\n4       Boi         2.60  Exponencial    1.0    0.2  0.7          1        2.0",
      "text/html": "<div>\n<style scoped>\n    .dataframe tbody tr th:only-of-type {\n        vertical-align: middle;\n    }\n\n    .dataframe tbody tr th {\n        vertical-align: top;\n    }\n\n    .dataframe thead th {\n        text-align: right;\n    }\n</style>\n<table border=\"1\" class=\"dataframe\">\n  <thead>\n    <tr style=\"text-align: right;\">\n      <th></th>\n      <th>Variables</th>\n      <th>Data values</th>\n      <th>Dist.</th>\n      <th>Loc</th>\n      <th>Scale</th>\n      <th>Sc</th>\n      <th>Lim. Min.</th>\n      <th>Lim. Max.</th>\n    </tr>\n  </thead>\n  <tbody>\n    <tr>\n      <th>0</th>\n      <td>Area</td>\n      <td>340.00</td>\n      <td>Triangular</td>\n      <td>400.0</td>\n      <td>600.0</td>\n      <td>0.3</td>\n      <td>50</td>\n      <td>0.0</td>\n    </tr>\n    <tr>\n      <th>1</th>\n      <td>Espesor</td>\n      <td>40.00</td>\n      <td>Triangular</td>\n      <td>0.0</td>\n      <td>90.0</td>\n      <td>0.3</td>\n      <td>0</td>\n      <td>180.0</td>\n    </tr>\n    <tr>\n      <th>2</th>\n      <td>Porosida</td>\n      <td>0.16</td>\n      <td>Log Normal</td>\n      <td>0.0</td>\n      <td>0.2</td>\n      <td>0.8</td>\n      <td>0</td>\n      <td>0.4</td>\n    </tr>\n    <tr>\n      <th>3</th>\n      <td>Swi</td>\n      <td>0.51</td>\n      <td>Normal</td>\n      <td>0.4</td>\n      <td>0.2</td>\n      <td>0.0</td>\n      <td>0</td>\n      <td>1.0</td>\n    </tr>\n    <tr>\n      <th>4</th>\n      <td>Boi</td>\n      <td>2.60</td>\n      <td>Exponencial</td>\n      <td>1.0</td>\n      <td>0.2</td>\n      <td>0.7</td>\n      <td>1</td>\n      <td>2.0</td>\n    </tr>\n  </tbody>\n</table>\n</div>"
     },
     "execution_count": 137,
     "metadata": {},
     "output_type": "execute_result"
    }
   ],
   "source": [
    "df_poes['Loc'] = np.array([400, 0, 0, 0.4, 1])\n",
    "df_poes['Scale'] = np.array([600, 90, 0.2, 0.2, 0.2])\n",
    "df_poes['Sc'] = np.array([0.3, 0.3, 0.8, 0, 0.7])\n",
    "df_poes['Lim. Min.'] = np.array([50, 0, 0, 0, 1])\n",
    "df_poes['Lim. Max.'] = np.array([0, 180, 0.4, 1, 2])\n",
    "df_poes"
   ]
  },
  {
   "cell_type": "markdown",
   "source": [
    "# Use Loc method from pandas to extract specific values"
   ],
   "metadata": {
    "collapsed": false,
    "pycharm": {
     "name": "#%% md\n"
    }
   }
  },
  {
   "cell_type": "code",
   "execution_count": 138,
   "outputs": [
    {
     "data": {
      "text/plain": "0.16"
     },
     "execution_count": 138,
     "metadata": {},
     "output_type": "execute_result"
    }
   ],
   "source": [
    "df_poes.loc[2, \"Data values\"]"
   ],
   "metadata": {
    "collapsed": false,
    "pycharm": {
     "name": "#%%\n"
    }
   }
  },
  {
   "cell_type": "code",
   "execution_count": 139,
   "outputs": [
    {
     "data": {
      "text/plain": "'Swi'"
     },
     "execution_count": 139,
     "metadata": {},
     "output_type": "execute_result"
    }
   ],
   "source": [
    "df_poes.loc[3, \"Variables\"]"
   ],
   "metadata": {
    "collapsed": false,
    "pycharm": {
     "name": "#%%\n"
    }
   }
  },
  {
   "cell_type": "markdown",
   "source": [
    "# Call param_poes function"
   ],
   "metadata": {
    "collapsed": false,
    "pycharm": {
     "name": "#%% md\n"
    }
   }
  },
  {
   "cell_type": "code",
   "execution_count": 140,
   "outputs": [
    {
     "data": {
      "text/plain": "Index(['Variables', 'Data values', 'Dist.', 'Loc', 'Scale', 'Sc', 'Lim. Min.',\n       'Lim. Max.'],\n      dtype='object')"
     },
     "execution_count": 140,
     "metadata": {},
     "output_type": "execute_result"
    }
   ],
   "source": [
    "df_poes.columns"
   ],
   "metadata": {
    "collapsed": false,
    "pycharm": {
     "name": "#%%\n"
    }
   }
  },
  {
   "cell_type": "code",
   "execution_count": 141,
   "outputs": [
    {
     "data": {
      "text/plain": "  Variables  Data values        Dist.    Loc  Scale   Sc  Lim. Min.  Lim. Max.\n0     Area        340.00   Triangular  400.0  600.0  0.3         50        0.0\n1   Espesor        40.00   Triangular    0.0   90.0  0.3          0      180.0\n2  Porosida         0.16   Log Normal    0.0    0.2  0.8          0        0.4\n3       Swi         0.51       Normal    0.4    0.2  0.0          0        1.0\n4       Boi         2.60  Exponencial    1.0    0.2  0.7          1        2.0",
      "text/html": "<div>\n<style scoped>\n    .dataframe tbody tr th:only-of-type {\n        vertical-align: middle;\n    }\n\n    .dataframe tbody tr th {\n        vertical-align: top;\n    }\n\n    .dataframe thead th {\n        text-align: right;\n    }\n</style>\n<table border=\"1\" class=\"dataframe\">\n  <thead>\n    <tr style=\"text-align: right;\">\n      <th></th>\n      <th>Variables</th>\n      <th>Data values</th>\n      <th>Dist.</th>\n      <th>Loc</th>\n      <th>Scale</th>\n      <th>Sc</th>\n      <th>Lim. Min.</th>\n      <th>Lim. Max.</th>\n    </tr>\n  </thead>\n  <tbody>\n    <tr>\n      <th>0</th>\n      <td>Area</td>\n      <td>340.00</td>\n      <td>Triangular</td>\n      <td>400.0</td>\n      <td>600.0</td>\n      <td>0.3</td>\n      <td>50</td>\n      <td>0.0</td>\n    </tr>\n    <tr>\n      <th>1</th>\n      <td>Espesor</td>\n      <td>40.00</td>\n      <td>Triangular</td>\n      <td>0.0</td>\n      <td>90.0</td>\n      <td>0.3</td>\n      <td>0</td>\n      <td>180.0</td>\n    </tr>\n    <tr>\n      <th>2</th>\n      <td>Porosida</td>\n      <td>0.16</td>\n      <td>Log Normal</td>\n      <td>0.0</td>\n      <td>0.2</td>\n      <td>0.8</td>\n      <td>0</td>\n      <td>0.4</td>\n    </tr>\n    <tr>\n      <th>3</th>\n      <td>Swi</td>\n      <td>0.51</td>\n      <td>Normal</td>\n      <td>0.4</td>\n      <td>0.2</td>\n      <td>0.0</td>\n      <td>0</td>\n      <td>1.0</td>\n    </tr>\n    <tr>\n      <th>4</th>\n      <td>Boi</td>\n      <td>2.60</td>\n      <td>Exponencial</td>\n      <td>1.0</td>\n      <td>0.2</td>\n      <td>0.7</td>\n      <td>1</td>\n      <td>2.0</td>\n    </tr>\n  </tbody>\n</table>\n</div>"
     },
     "execution_count": 141,
     "metadata": {},
     "output_type": "execute_result"
    }
   ],
   "source": [
    "df_poes"
   ],
   "metadata": {
    "collapsed": false,
    "pycharm": {
     "name": "#%%\n"
    }
   }
  },
  {
   "cell_type": "code",
   "execution_count": 149,
   "outputs": [],
   "source": [
    "param_poes(df_poes, 3, 'Dist.', 'Loc', 'Scale', 100, 'Sc', 'Lim. Min.', 'Lim. Max.')"
   ],
   "metadata": {
    "collapsed": false,
    "pycharm": {
     "name": "#%%\n"
    }
   }
  },
  {
   "cell_type": "code",
   "execution_count": 143,
   "outputs": [],
   "source": [
    "def param_stoiip(\n",
    "    df,\n",
    "    row,\n",
    "    dist_col,\n",
    "    loc_col,\n",
    "    scale_col,\n",
    "    iter,\n",
    "    sc_col=None,\n",
    "    lim_min_col=None,\n",
    "    lim_max_col=None,\n",
    "    seed=None,\n",
    "):\n",
    "    \"\"\"\n",
    "    This function has as a goal, return numpy arrays of any stoiip variable like area,\n",
    "    thickness, porosity, oil saturation and Boi. Furthermore, this numpy array contains\n",
    "    random variables from various continuous distributions.\n",
    "\n",
    "    Parameters\n",
    "    ----------\n",
    "    df\n",
    "        Pandas dataframe\n",
    "    row\n",
    "        row index\n",
    "    dist_col\n",
    "        distribution column\n",
    "    loc_col\n",
    "        loc argument column from scipy\n",
    "    scale_col\n",
    "        scale argument column from scipy\n",
    "    sc_col\n",
    "        c or s argument column from scipy\n",
    "    lim_min_col\n",
    "        Minimum limit column\n",
    "    lim_max_col\n",
    "        Maximin limit column\n",
    "    iter\n",
    "        Number of random variables\n",
    "    seed\n",
    "        Specifies the seed number to create the random number generator\n",
    "\n",
    "    Returns\n",
    "    -------\n",
    "    numpy array of the any Stoiip parameter\n",
    "\n",
    "    \"\"\"\n",
    "\n",
    "    if seed is None:\n",
    "        rng = np.random.default_rng()\n",
    "    else:\n",
    "        rng = np.random.default_rng(seed)\n",
    "\n",
    "    if df.loc[row, dist_col] == \"Log-Normal\" or df.loc[row, dist_col] == \"Triangular\":\n",
    "        if df.loc[row, dist_col] == \"Log-Normal\":\n",
    "            param = lognorm.rvs(\n",
    "                s=df.loc[row, sc_col],\n",
    "                loc=df.loc[row, loc_col],\n",
    "                scale=df.loc[row, scale_col],\n",
    "                size=iter,\n",
    "                random_state=rng,\n",
    "            )\n",
    "            param = np.where(\n",
    "                param < df.loc[row, lim_min_col], df.loc[row, lim_min_col], param\n",
    "            )\n",
    "            param = np.where(\n",
    "                param > df.loc[row, lim_max_col], df.loc[row, lim_max_col], param\n",
    "            )\n",
    "\n",
    "        elif df.loc[row, dist_col] == \"Triangular\":\n",
    "            param = triang.rvs(\n",
    "                c=df.loc[row, sc_col],\n",
    "                loc=df.loc[row, loc_col],\n",
    "                scale=df.loc[row, scale_col],\n",
    "                size=iter,\n",
    "                random_state=rng,\n",
    "            )\n",
    "\n",
    "    elif df.loc[row, dist_col] == \"Normal\":\n",
    "        param = norm.rvs(\n",
    "            loc=df.loc[row, loc_col],\n",
    "            scale=df.loc[row, scale_col],\n",
    "            size=iter,\n",
    "            random_state=rng,\n",
    "        )\n",
    "        param = np.where(\n",
    "            param < df.loc[row, lim_min_col], df.loc[row, lim_min_col], param\n",
    "        )\n",
    "        param = np.where(\n",
    "            param > df.loc[row, lim_max_col], df.loc[row, lim_max_col], param\n",
    "        )\n",
    "\n",
    "    elif df.loc[row, dist_col] == \"Exponencial\":\n",
    "        param = expon.rvs(\n",
    "            loc=df.loc[row, loc_col],\n",
    "            scale=df.loc[row, scale_col],\n",
    "            size=iter,\n",
    "            random_state=rng,\n",
    "        )\n",
    "        param = np.where(\n",
    "            param > df.loc[row, lim_max_col],\n",
    "            df.loc[row, lim_max_col],\n",
    "            param,\n",
    "        )\n",
    "\n",
    "    elif df.loc[row, dist_col] == \"Rectangular\":\n",
    "        param = uniform.rvs(\n",
    "            loc=df.loc[row, loc_col],\n",
    "            scale=df.loc[row, scale_col],\n",
    "            size=iter,\n",
    "            random_state=rng,\n",
    "        )\n",
    "\n",
    "    return param"
   ],
   "metadata": {
    "collapsed": false,
    "pycharm": {
     "name": "#%%\n"
    }
   }
  },
  {
   "cell_type": "code",
   "execution_count": 148,
   "outputs": [
    {
     "data": {
      "text/plain": "array([0.48275735, 0.36856971, 0.07697352, 0.23075571, 0.68653769,\n       0.43420576, 0.65837029, 0.7053924 , 0.15927028, 0.44859897,\n       0.14020174, 0.46517141, 0.38824839, 0.97375868, 0.229729  ,\n       0.49817262, 0.48512111, 0.12249559, 0.20625855, 0.6232184 ,\n       0.49495866, 0.48212433, 0.52764265, 0.29974031, 0.17359368,\n       0.33144637, 0.10837005, 0.48828432, 0.5723086 , 0.78953157,\n       0.        , 0.50556503, 0.38507287, 0.58813851, 0.69104246,\n       0.18708673, 0.50101976, 0.67225353, 0.23443247, 0.1925057 ,\n       0.43085725, 0.5926547 , 0.24064211, 0.24290324, 0.20965749,\n       0.06053067, 0.65657121, 0.41550891, 0.45000914, 0.69931955,\n       0.53007514, 0.36615253, 0.38307951, 0.62082304, 0.36138149,\n       0.42543231, 0.27232759, 0.61655126, 0.26927861, 0.74349765,\n       0.25647467, 0.20667166, 0.47056817, 0.14695612, 0.43760604,\n       0.46416515, 0.36649164, 0.50033168, 0.29668216, 0.1341708 ,\n       0.15411216, 0.40005854, 0.3808439 , 0.27276876, 0.51056846,\n       0.51207078, 0.35611762, 0.38493382, 0.20568803, 0.26042086,\n       0.21608956, 0.42954031, 0.68074998, 0.63919695, 0.19079533,\n       0.35962454, 1.        , 0.48897389, 0.5785861 , 0.54186408,\n       0.10089796, 0.31232973, 0.47868746, 0.42167878, 0.3625889 ,\n       0.74998578, 0.29083829, 0.47032976, 0.31212993, 0.        ])"
     },
     "execution_count": 148,
     "metadata": {},
     "output_type": "execute_result"
    }
   ],
   "source": [
    "param_stoiip(df_poes, 3, 'Dist.', 'Loc', 'Scale', 100, 'Sc', 'Lim. Min.', 'Lim. Max.')"
   ],
   "metadata": {
    "collapsed": false,
    "pycharm": {
     "name": "#%%\n"
    }
   }
  },
  {
   "cell_type": "code",
   "execution_count": null,
   "outputs": [],
   "source": [],
   "metadata": {
    "collapsed": false,
    "pycharm": {
     "name": "#%%\n"
    }
   }
  }
 ],
 "metadata": {
  "kernelspec": {
   "display_name": "Python 3 (ipykernel)",
   "language": "python",
   "name": "python3"
  },
  "language_info": {
   "codemirror_mode": {
    "name": "ipython",
    "version": 3
   },
   "file_extension": ".py",
   "mimetype": "text/x-python",
   "name": "python",
   "nbconvert_exporter": "python",
   "pygments_lexer": "ipython3",
   "version": "3.9.12"
  }
 },
 "nbformat": 4,
 "nbformat_minor": 1
}